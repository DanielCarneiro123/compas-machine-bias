{
 "cells": [
  {
   "cell_type": "markdown",
   "metadata": {},
   "source": [
    "# Analysis with the `Race` column"
   ]
  },
  {
   "cell_type": "code",
   "execution_count": 1,
   "metadata": {},
   "outputs": [],
   "source": [
    "import pandas as pd"
   ]
  },
  {
   "cell_type": "markdown",
   "metadata": {},
   "source": [
    "# Aequitas"
   ]
  },
  {
   "cell_type": "code",
   "execution_count": 2,
   "metadata": {},
   "outputs": [
    {
     "name": "stdout",
     "output_type": "stream",
     "text": [
      "Total number of rows in raw data: 7214\n",
      "Total number of rows after filtering: 6172\n",
      "Correlation between length of stay and decile score: 0.2075\n",
      "Demographic Breakdown:\n",
      "Black defendants: 51.44%\n",
      "White defendants: 34.07%\n",
      "Hispanic defendants: 8.25%\n",
      "Asian defendants: 0.50%\n",
      "Native American defendants: 0.18%\n",
      "Two-year recidivism rate: 45.51%\n"
     ]
    },
    {
     "data": {
      "image/png": "[encoded data removed]",
      "text/plain": [
       "<Figure size 1500x500 with 2 Axes>"
      ]
     },
     "metadata": {},
     "output_type": "display_data"
    },
    {
     "name": "stdout",
     "output_type": "stream",
     "text": [
      "Data columns after get_dummies: ['age', 'score_text', 'priors_count', 'days_b_screening_arrest', 'decile_score', 'is_recid', 'two_year_recid', 'c_jail_in', 'c_jail_out', 'length_of_stay', 'c_charge_degree_F', 'c_charge_degree_M', 'age_cat_25 - 45', 'age_cat_Greater than 45', 'age_cat_Less than 25', 'race_African-American', 'race_Asian', 'race_Caucasian', 'race_Hispanic', 'race_Native American', 'race_Other', 'sex_Female', 'sex_Male', 'score_factor']\n",
      "              precision    recall  f1-score   support\n",
      "\n",
      "           0       0.76      0.81      0.78      3421\n",
      "           1       0.74      0.69      0.71      2751\n",
      "\n",
      "    accuracy                           0.75      6172\n",
      "   macro avg       0.75      0.75      0.75      6172\n",
      "weighted avg       0.75      0.75      0.75      6172\n",
      "\n",
      "\n",
      "Odds Ratios for significant factors:\n",
      "Black defendants are 1.6230018900385719 times more likely to receive a higher score.\n",
      "Women are 0.8169322281047161 times less likely to receive a higher score.\n",
      "People under 25 are 3.78169054478933 times as likely to receive a higher score as middle-aged defendants.\n"
     ]
    }
   ],
   "source": [
    "import pandas as pd\n",
    "import numpy as np\n",
    "import warnings\n",
    "import matplotlib.pyplot as plt\n",
    "import seaborn as sns\n",
    "from sklearn.linear_model import LogisticRegression\n",
    "from sklearn.preprocessing import StandardScaler\n",
    "from sklearn.metrics import classification_report\n",
    "\n",
    "warnings.filterwarnings('ignore')\n",
    "\n",
    "raw_data = pd.read_csv(\"./compas-scores-two-years.csv\")\n",
    "print(f\"Total number of rows in raw data: {raw_data.shape[0]}\")\n",
    "\n",
    "df = raw_data[['age', 'c_charge_degree', 'race', 'age_cat', 'score_text', 'sex', \n",
    "               'priors_count', 'days_b_screening_arrest', 'decile_score', 'is_recid', \n",
    "               'two_year_recid', 'c_jail_in', 'c_jail_out']]\n",
    "\n",
    "df = df[(df['days_b_screening_arrest'] <= 30) &\n",
    "        (df['days_b_screening_arrest'] >= -30) &\n",
    "        (df['is_recid'] != -1) &\n",
    "        (df['c_charge_degree'] != \"O\") &\n",
    "        (df['score_text'] != 'N/A')]\n",
    "\n",
    "print(f\"Total number of rows after filtering: {df.shape[0]}\")\n",
    "\n",
    "df['c_jail_in'] = pd.to_datetime(df['c_jail_in'])\n",
    "df['c_jail_out'] = pd.to_datetime(df['c_jail_out'])\n",
    "df['length_of_stay'] = (df['c_jail_out'] - df['c_jail_in']).dt.days\n",
    "correlation = df['length_of_stay'].corr(df['decile_score'])\n",
    "print(f\"Correlation between length of stay and decile score: {correlation:.4f}\")\n",
    "\n",
    "age_cat_summary = df['age_cat'].value_counts()\n",
    "race_summary = df['race'].value_counts()\n",
    "sex_summary = df['sex'].value_counts()\n",
    "\n",
    "print(\"Demographic Breakdown:\")\n",
    "print(f\"Black defendants: {race_summary.get('African-American', 0) / len(df) * 100:.2f}%\")\n",
    "print(f\"White defendants: {race_summary.get('Caucasian', 0) / len(df) * 100:.2f}%\")\n",
    "print(f\"Hispanic defendants: {race_summary.get('Hispanic', 0) / len(df) * 100:.2f}%\")\n",
    "print(f\"Asian defendants: {race_summary.get('Asian', 0) / len(df) * 100:.2f}%\")\n",
    "print(f\"Native American defendants: {race_summary.get('Native American', 0) / len(df) * 100:.2f}%\")\n",
    "\n",
    "two_year_recid_count = df[df['two_year_recid'] == 1].shape[0]\n",
    "two_year_recid_rate = (two_year_recid_count / len(df)) * 100\n",
    "print(f\"Two-year recidivism rate: {two_year_recid_rate:.2f}%\")\n",
    "\n",
    "fig, axes = plt.subplots(1, 2, figsize=(15, 5), sharey=True)\n",
    "sns.countplot(x=\"decile_score\", data=df[df['race'] == \"African-American\"], ax=axes[0])\n",
    "axes[0].set_title(\"Black Defendant's Decile Scores\")\n",
    "sns.countplot(x=\"decile_score\", data=df[df['race'] == \"Caucasian\"], ax=axes[1])\n",
    "axes[1].set_title(\"White Defendant's Decile Scores\")\n",
    "plt.show()\n",
    "\n",
    "df = pd.get_dummies(df, columns=['c_charge_degree', 'age_cat', 'race', 'sex'])\n",
    "\n",
    "\n",
    "\n",
    "df['score_factor'] = np.where(df['score_text'] != \"Low\", 1, 0) \n",
    "\n",
    "print(\"Data columns after get_dummies:\", df.columns.tolist())\n",
    "\n",
    "X_columns = [\n",
    "    'sex_Male', 'age_cat_Greater than 45', 'age_cat_Less than 25', \n",
    "    'race_African-American', 'race_Asian', 'race_Hispanic', 'race_Native American', \n",
    "    'race_Other', 'priors_count', 'two_year_recid'\n",
    "]\n",
    "\n",
    "missing_columns = [col for col in X_columns if col not in df.columns]\n",
    "if missing_columns:\n",
    "    print(\"Warning: The following expected columns are missing:\", missing_columns)\n",
    "else:\n",
    "    X = df[X_columns]\n",
    "    y = df['score_factor']\n",
    "\n",
    "    scaler = StandardScaler()\n",
    "    X[['priors_count']] = scaler.fit_transform(X[['priors_count']])\n",
    "\n",
    "    log_reg = LogisticRegression()\n",
    "    log_reg.fit(X, y)\n",
    "\n",
    "    y_pred = log_reg.predict(X)\n",
    "    print(classification_report(y, y_pred))\n",
    "\n",
    "    odds_ratios = np.exp(log_reg.coef_).flatten()\n",
    "    odds_ratios_dict = {feature: odds_ratio for feature, odds_ratio in zip(X.columns, odds_ratios)}\n",
    "    print(\"\\nOdds Ratios for significant factors:\")\n",
    "    print(f\"Black defendants are {odds_ratios_dict.get('race_African-American', 'N/A')} times more likely to receive a higher score.\")\n",
    "    print(f\"Women are {odds_ratios_dict.get('sex_Male', 'N/A')} times less likely to receive a higher score.\")\n",
    "    print(f\"People under 25 are {odds_ratios_dict.get('age_cat_Less than 25', 'N/A')} times as likely to receive a higher score as middle-aged defendants.\")\n"
   ]
  },
  {
   "cell_type": "markdown",
   "metadata": {},
   "source": [
    "# Exploration"
   ]
  },
  {
   "cell_type": "markdown",
   "metadata": {},
   "source": [
    "This cell selects the specific columns needed for analysis, focusing on features related to demographic information, COMPAS scores, and recidivism. (we can ignore name columns)"
   ]
  },
  {
   "cell_type": "code",
   "execution_count": 3,
   "metadata": {},
   "outputs": [
    {
     "name": "stdout",
     "output_type": "stream",
     "text": [
      "Total number of rows in raw data: 7214\n"
     ]
    }
   ],
   "source": [
    "import pandas as pd\n",
    "import numpy as np\n",
    "import warnings\n",
    "import matplotlib.pyplot as plt\n",
    "import seaborn as sns\n",
    "from sklearn.linear_model import LogisticRegression\n",
    "from sklearn.preprocessing import StandardScaler\n",
    "from sklearn.metrics import classification_report\n",
    "\n",
    "warnings.filterwarnings('ignore')\n",
    "\n",
    "raw_data = pd.read_csv(\"./compas-scores-two-years.csv\")\n",
    "print(f\"Total number of rows in raw data: {raw_data.shape[0]}\")\n",
    "\n",
    "df = raw_data[['age', 'c_charge_degree', 'race', 'age_cat', 'score_text', 'sex', \n",
    "               'priors_count', 'days_b_screening_arrest', 'decile_score', 'is_recid', \n",
    "               'two_year_recid', 'c_jail_in', 'c_jail_out']]\n"
   ]
  },
  {
   "cell_type": "markdown",
   "metadata": {},
   "source": [
    "Filtering the dataset to exclude cases with invalid information."
   ]
  },
  {
   "cell_type": "code",
   "execution_count": 4,
   "metadata": {},
   "outputs": [
    {
     "name": "stdout",
     "output_type": "stream",
     "text": [
      "Total number of rows after filtering: 6172\n"
     ]
    }
   ],
   "source": [
    "df = df[(df['days_b_screening_arrest'] <= 30) &\n",
    "        (df['days_b_screening_arrest'] >= -30) &\n",
    "        (df['is_recid'] != -1) &\n",
    "        (df['c_charge_degree'] != \"O\") &\n",
    "        (df['score_text'] != 'N/A')]\n",
    "\n",
    "print(f\"Total number of rows after filtering: {df.shape[0]}\")\n"
   ]
  },
  {
   "cell_type": "markdown",
   "metadata": {},
   "source": [
    "This cell calculates each defendant’s jail stay length by converting jail entry and exit dates into a datetime format. It then computes the correlation between **length_of_stay** and the **decile_score**."
   ]
  },
  {
   "cell_type": "code",
   "execution_count": 5,
   "metadata": {},
   "outputs": [
    {
     "name": "stdout",
     "output_type": "stream",
     "text": [
      "Correlation between length of stay and decile score: 0.2075\n"
     ]
    }
   ],
   "source": [
    "# Calculate the length of stay and correlate it with the decile score\n",
    "df['c_jail_in'] = pd.to_datetime(df['c_jail_in'])\n",
    "df['c_jail_out'] = pd.to_datetime(df['c_jail_out'])\n",
    "df['length_of_stay'] = (df['c_jail_out'] - df['c_jail_in']).dt.days\n",
    "correlation = df['length_of_stay'].corr(df['decile_score'])\n",
    "print(f\"Correlation between length of stay and decile score: {correlation:.4f}\")\n"
   ]
  },
  {
   "cell_type": "markdown",
   "metadata": {},
   "source": [
    "This cell provides a breakdown of demographic information for race, age categories, and sex, printing the percentages of each racial group."
   ]
  },
  {
   "cell_type": "code",
   "execution_count": 6,
   "metadata": {},
   "outputs": [
    {
     "name": "stdout",
     "output_type": "stream",
     "text": [
      "Demographic Breakdown:\n",
      "Black defendants: 51.44%\n",
      "White defendants: 34.07%\n",
      "Hispanic defendants: 8.25%\n",
      "Asian defendants: 0.50%\n",
      "Native American defendants: 0.18%\n"
     ]
    }
   ],
   "source": [
    "# Summarize demographic data for age, race, and sex\n",
    "age_cat_summary = df['age_cat'].value_counts()\n",
    "race_summary = df['race'].value_counts()\n",
    "sex_summary = df['sex'].value_counts()\n",
    "\n",
    "# Display demographic breakdown\n",
    "print(\"Demographic Breakdown:\")\n",
    "print(f\"Black defendants: {race_summary.get('African-American', 0) / len(df) * 100:.2f}%\")\n",
    "print(f\"White defendants: {race_summary.get('Caucasian', 0) / len(df) * 100:.2f}%\")\n",
    "print(f\"Hispanic defendants: {race_summary.get('Hispanic', 0) / len(df) * 100:.2f}%\")\n",
    "print(f\"Asian defendants: {race_summary.get('Asian', 0) / len(df) * 100:.2f}%\")\n",
    "print(f\"Native American defendants: {race_summary.get('Native American', 0) / len(df) * 100:.2f}%\")\n"
   ]
  },
  {
   "cell_type": "markdown",
   "metadata": {},
   "source": [
    "This cell calculates the percentage of individuals who recidivated within two years, giving an overview of the recidivism rate in the dataset."
   ]
  },
  {
   "cell_type": "code",
   "execution_count": 7,
   "metadata": {},
   "outputs": [
    {
     "name": "stdout",
     "output_type": "stream",
     "text": [
      "Two-year recidivism rate: 45.51%\n"
     ]
    }
   ],
   "source": [
    "# Calculate the two-year recidivism rate\n",
    "two_year_recid_count = df[df['two_year_recid'] == 1].shape[0]\n",
    "two_year_recid_rate = (two_year_recid_count / len(df)) * 100\n",
    "print(f\"Two-year recidivism rate: {two_year_recid_rate:.2f}%\")\n"
   ]
  },
  {
   "cell_type": "markdown",
   "metadata": {},
   "source": [
    "This cell visualizes the distribution of **decile_score** values for African-American and Caucasian defendants, providing insight into score differences across racial groups."
   ]
  },
  {
   "cell_type": "code",
   "execution_count": 8,
   "metadata": {},
   "outputs": [
    {
     "data": {
      "image/png": "[encoded data removed]",
      "text/plain": [
       "<Figure size 1500x500 with 2 Axes>"
      ]
     },
     "metadata": {},
     "output_type": "display_data"
    }
   ],
   "source": [
    "# Plot distribution of Decile Scores by Race for African-American and Caucasian defendants\n",
    "fig, axes = plt.subplots(1, 2, figsize=(15, 5), sharey=True)\n",
    "sns.countplot(x=\"decile_score\", data=df[df['race'] == \"African-American\"], ax=axes[0])\n",
    "axes[0].set_title(\"Black Defendant's Decile Scores\")\n",
    "sns.countplot(x=\"decile_score\", data=df[df['race'] == \"Caucasian\"], ax=axes[1])\n",
    "axes[1].set_title(\"White Defendant's Decile Scores\")\n",
    "plt.show()\n"
   ]
  },
  {
   "cell_type": "markdown",
   "metadata": {},
   "source": [
    "This cell creates dummy variables for categorical columns, ensuring that all racial categories are retained by setting **drop_first=False** specifically for **race**."
   ]
  },
  {
   "cell_type": "code",
   "execution_count": 9,
   "metadata": {},
   "outputs": [],
   "source": [
    "# Convert categorical variables to dummy variables, retaining all race categories\n",
    "df = pd.get_dummies(df, columns=['c_charge_degree', 'age_cat', 'race', 'sex'], drop_first=False)\n"
   ]
  },
  {
   "cell_type": "markdown",
   "metadata": {},
   "source": [
    "This cell creates a binary **score_factor** column where 1 indicates a high or medium score, and 0 indicates a low score. It also displays the column names to confirm dummy variable generation."
   ]
  },
  {
   "cell_type": "code",
   "execution_count": 10,
   "metadata": {},
   "outputs": [
    {
     "name": "stdout",
     "output_type": "stream",
     "text": [
      "Data columns after get_dummies: ['age', 'score_text', 'priors_count', 'days_b_screening_arrest', 'decile_score', 'is_recid', 'two_year_recid', 'c_jail_in', 'c_jail_out', 'length_of_stay', 'c_charge_degree_F', 'c_charge_degree_M', 'age_cat_25 - 45', 'age_cat_Greater than 45', 'age_cat_Less than 25', 'race_African-American', 'race_Asian', 'race_Caucasian', 'race_Hispanic', 'race_Native American', 'race_Other', 'sex_Female', 'sex_Male', 'score_factor']\n"
     ]
    }
   ],
   "source": [
    "# Create a binary target variable for the logistic regression model\n",
    "df['score_factor'] = np.where(df['score_text'] != \"Low\", 1, 0)  # HighScore=1, LowScore=0\n",
    "\n",
    "# Display the final list of columns after dummy variable encoding\n",
    "print(\"Data columns after get_dummies:\", df.columns.tolist())\n"
   ]
  },
  {
   "cell_type": "markdown",
   "metadata": {},
   "source": [
    "This cell selects feature columns based on expected dummy variables. It checks if any expected columns are missing, which helps avoid errors if certain categories were not created."
   ]
  },
  {
   "cell_type": "code",
   "execution_count": 11,
   "metadata": {},
   "outputs": [],
   "source": [
    "# Define feature columns for logistic regression based on actual dummy variable names\n",
    "X_columns = [\n",
    "    'sex_Male', 'age_cat_Greater than 45', 'age_cat_Less than 25', \n",
    "    'race_African-American', 'race_Asian', 'race_Hispanic', 'race_Native American', \n",
    "    'race_Other', 'priors_count', 'two_year_recid'\n",
    "]\n",
    "\n",
    "# Check for missing expected columns\n",
    "missing_columns = [col for col in X_columns if col not in df.columns]\n",
    "if missing_columns:\n",
    "    print(\"Warning: The following expected columns are missing:\", missing_columns)\n",
    "else:\n",
    "    X = df[X_columns]\n",
    "    y = df['score_factor']\n"
   ]
  },
  {
   "cell_type": "markdown",
   "metadata": {},
   "source": [
    "This cell standardizes **priors_count** to improve logistic regression model performance, ensuring it’s on a comparable scale with other features."
   ]
  },
  {
   "cell_type": "code",
   "execution_count": 12,
   "metadata": {},
   "outputs": [],
   "source": [
    "# Standardize the 'priors_count' feature for better logistic regression performance\n",
    "scaler = StandardScaler()\n",
    "X[['priors_count']] = scaler.fit_transform(X[['priors_count']])\n"
   ]
  },
  {
   "cell_type": "markdown",
   "metadata": {},
   "source": [
    "This cell trains the logistic regression model on the dataset and prints a classification report to evaluate performance on the binary classification task."
   ]
  },
  {
   "cell_type": "code",
   "execution_count": 13,
   "metadata": {},
   "outputs": [
    {
     "name": "stdout",
     "output_type": "stream",
     "text": [
      "              precision    recall  f1-score   support\n",
      "\n",
      "           0       0.76      0.81      0.78      3421\n",
      "           1       0.74      0.69      0.71      2751\n",
      "\n",
      "    accuracy                           0.75      6172\n",
      "   macro avg       0.75      0.75      0.75      6172\n",
      "weighted avg       0.75      0.75      0.75      6172\n",
      "\n"
     ]
    }
   ],
   "source": [
    "# Fit Logistic Regression Model and print classification report\n",
    "log_reg = LogisticRegression()\n",
    "log_reg.fit(X, y)\n",
    "y_pred = log_reg.predict(X)\n",
    "print(classification_report(y, y_pred))\n"
   ]
  },
  {
   "cell_type": "markdown",
   "metadata": {},
   "source": [
    "This cell calculates and displays odds ratios for each feature in the logistic regression model, offering insight into how different factors (e.g., race, age) affect the likelihood of receiving a high COMPAS score."
   ]
  },
  {
   "cell_type": "code",
   "execution_count": 14,
   "metadata": {},
   "outputs": [
    {
     "name": "stdout",
     "output_type": "stream",
     "text": [
      "\n",
      "Odds Ratios for significant factors:\n",
      "Black defendants are 1.6230018900385719 times more likely to receive a higher score.\n",
      "Women are 0.8169322281047161 times less likely to receive a higher score.\n",
      "People under 25 are 3.78169054478933 times as likely to receive a higher score as middle-aged defendants.\n"
     ]
    }
   ],
   "source": [
    "# Calculate and display odds ratios for model coefficients\n",
    "odds_ratios = np.exp(log_reg.coef_).flatten()\n",
    "odds_ratios_dict = {feature: odds_ratio for feature, odds_ratio in zip(X.columns, odds_ratios)}\n",
    "print(\"\\nOdds Ratios for significant factors:\")\n",
    "print(f\"Black defendants are {odds_ratios_dict.get('race_African-American', 'N/A')} times more likely to receive a higher score.\")\n",
    "print(f\"Women are {odds_ratios_dict.get('sex_Male', 'N/A')} times less likely to receive a higher score.\")\n",
    "print(f\"People under 25 are {odds_ratios_dict.get('age_cat_Less than 25', 'N/A')} times as likely to receive a higher score as middle-aged defendants.\")\n"
   ]
  },
  {
   "cell_type": "markdown",
   "metadata": {},
   "source": [
    "# Analysis without the `race` column"
   ]
  },
  {
   "cell_type": "markdown",
   "metadata": {},
   "source": [
    "## Data processing"
   ]
  },
  {
   "cell_type": "code",
   "execution_count": 15,
   "metadata": {},
   "outputs": [],
   "source": [
    "import pandas as pd\n",
    "import numpy as np\n",
    "import warnings\n",
    "import matplotlib.pyplot as plt\n",
    "import seaborn as sns\n",
    "from sklearn.linear_model import LogisticRegression\n",
    "from sklearn.preprocessing import StandardScaler\n",
    "from sklearn.metrics import classification_report\n",
    "\n",
    "# Ignore warnings\n",
    "warnings.filterwarnings('ignore')\n",
    "\n",
    "# Load and filter the dataset\n",
    "raw_data = pd.read_csv(\"./compas-scores-two-years.csv\")\n",
    "df = raw_data[['age', 'c_charge_degree', 'age_cat', 'score_text', 'sex', \n",
    "               'priors_count', 'days_b_screening_arrest', 'decile_score', 'is_recid', \n",
    "               'two_year_recid', 'c_jail_in', 'c_jail_out']]\n",
    "\n",
    "# Filter the data based on the specified conditions\n",
    "df = df[(df['days_b_screening_arrest'] <= 30) &\n",
    "        (df['days_b_screening_arrest'] >= -30) &\n",
    "        (df['is_recid'] != -1) &\n",
    "        (df['c_charge_degree'] != \"O\") &\n",
    "        (df['score_text'] != 'N/A')]\n",
    "\n",
    "# Calculate length of stay in jail\n",
    "df['c_jail_in'] = pd.to_datetime(df['c_jail_in'])\n",
    "df['c_jail_out'] = pd.to_datetime(df['c_jail_out'])\n",
    "df['length_of_stay'] = (df['c_jail_out'] - df['c_jail_in']).dt.days\n"
   ]
  },
  {
   "cell_type": "markdown",
   "metadata": {},
   "source": [
    "## Feature Engineering withour the `race` column"
   ]
  },
  {
   "cell_type": "code",
   "execution_count": 16,
   "metadata": {},
   "outputs": [],
   "source": [
    "# Create dummy variables for categorical columns except for 'race'\n",
    "df = pd.get_dummies(df, columns=['c_charge_degree', 'age_cat', 'sex'], drop_first=True)\n",
    "\n",
    "# Create a binary target variable for the logistic regression model\n",
    "df['score_factor'] = np.where(df['score_text'] != \"Low\", 1, 0)  # HighScore=1, LowScore=0\n"
   ]
  },
  {
   "cell_type": "markdown",
   "metadata": {},
   "source": [
    "## Define Features and Fit Logistic Regression Model"
   ]
  },
  {
   "cell_type": "code",
   "execution_count": 17,
   "metadata": {},
   "outputs": [
    {
     "name": "stdout",
     "output_type": "stream",
     "text": [
      "              precision    recall  f1-score   support\n",
      "\n",
      "           0       0.76      0.81      0.79      3421\n",
      "           1       0.74      0.69      0.71      2751\n",
      "\n",
      "    accuracy                           0.76      6172\n",
      "   macro avg       0.75      0.75      0.75      6172\n",
      "weighted avg       0.75      0.76      0.75      6172\n",
      "\n"
     ]
    }
   ],
   "source": [
    "X_columns = ['sex_Male', 'age_cat_Greater than 45', 'age_cat_Less than 25', \n",
    "             'priors_count', 'two_year_recid', 'length_of_stay']\n",
    "X = df[X_columns]\n",
    "y = df['score_factor']\n",
    "\n",
    "scaler = StandardScaler()\n",
    "X[['priors_count', 'length_of_stay']] = scaler.fit_transform(X[['priors_count', 'length_of_stay']])\n",
    "\n",
    "log_reg = LogisticRegression()\n",
    "log_reg.fit(X, y)\n",
    "\n",
    "y_pred = log_reg.predict(X)\n",
    "print(classification_report(y, y_pred))\n"
   ]
  },
  {
   "cell_type": "markdown",
   "metadata": {},
   "source": [
    "## Analyze Race Distribution by Risk Category"
   ]
  },
  {
   "cell_type": "code",
   "execution_count": 18,
   "metadata": {},
   "outputs": [
    {
     "name": "stdout",
     "output_type": "stream",
     "text": [
      "\n",
      "Race distribution by predicted risk score:\n",
      "race             African-American  Asian  Caucasian  Hispanic  \\\n",
      "predicted_score                                                 \n",
      "0                            1491     24       1507       358   \n",
      "1                            1684      7        596       151   \n",
      "\n",
      "race             Native American  Other  \n",
      "predicted_score                          \n",
      "0                              5    245  \n",
      "1                              6     98  \n"
     ]
    },
    {
     "data": {
      "image/png": "[encoded data removed]",
      "text/plain": [
       "<Figure size 1000x600 with 1 Axes>"
      ]
     },
     "metadata": {},
     "output_type": "display_data"
    }
   ],
   "source": [
    "# Add the predicted scores to the filtered DataFrame (df) with matching index\n",
    "df['predicted_score'] = y_pred\n",
    "\n",
    "# Extract the 'race' column for only the rows in 'df' (using the same index)\n",
    "df['race'] = raw_data.loc[df.index, 'race']\n",
    "\n",
    "# Now, we proceed to analyze the race distribution within each predicted score\n",
    "race_distribution = df.groupby(['predicted_score', 'race']).size().unstack().fillna(0)\n",
    "\n",
    "# Print the race distribution by predicted risk score to verify\n",
    "print(\"\\nRace distribution by predicted risk score:\")\n",
    "print(race_distribution)\n",
    "\n",
    "# Plotting the race distribution as a stacked bar chart\n",
    "race_distribution.T.plot(kind='bar', stacked=True, figsize=(10, 6), colormap='viridis')\n",
    "\n",
    "# Adding labels and title for clarity\n",
    "plt.title(\"Race Distribution by Predicted Risk Score\")\n",
    "plt.xlabel(\"Predicted Risk Score\")\n",
    "plt.ylabel(\"Count\")\n",
    "plt.legend(title=\"Race\", bbox_to_anchor=(1.05, 1), loc='upper left')\n",
    "plt.tight_layout()\n",
    "plt.show()\n"
   ]
  },
  {
   "cell_type": "markdown",
   "metadata": {},
   "source": [
    "# Aequitas"
   ]
  },
  {
   "cell_type": "markdown",
   "metadata": {},
   "source": [
    "## Colunas a usar\n",
    "\n",
    "- sex\n",
    "- age_cat\n",
    "- race\n",
    "- juv_fail_count\n",
    "- decile_score\n",
    "- juv_misd_count\n",
    "- juv_other_count\n",
    "- days_b_screening_arrest\n",
    "- c_charge_degree\n",
    "- is_recid\n",
    "- r_charge_degree\n",
    "- is_violent_recid\n",
    "- vr_charge_degree\n",
    "- score_text\n",
    "- v_score_text\n",
    "- two_year_recid"
   ]
  },
  {
   "cell_type": "code",
   "execution_count": 19,
   "metadata": {},
   "outputs": [],
   "source": [
    "from aequitas import Audit\n",
    "import aequitas.plot as ap"
   ]
  },
  {
   "cell_type": "code",
   "execution_count": 71,
   "metadata": {},
   "outputs": [],
   "source": [
    "original_df = pd.read_csv(\"compas-scores-two-years.csv\")\n",
    "\n",
    "# DROPING days_b_screening_arrest, TO BE DISCUSSED\n",
    "\n",
    "columns_to_select = [\n",
    "    \"sex\", \"age_cat\", \"race\", \"juv_fel_count\", \"decile_score\", \"juv_misd_count\", \"juv_other_count\", \n",
    "    \"c_charge_degree\", \"is_recid\", \"r_charge_degree\", \"is_violent_recid\", \n",
    "    \"vr_charge_degree\", \"score_text\", \"v_score_text\", \"two_year_recid\"\n",
    "]\n",
    "\n",
    "new_df = original_df[columns_to_select]\n",
    "\n",
    "# add df['score_factor'] and df['predicted_score'] to new_df\n",
    "new_df['score_factor'] = df['score_factor']\n",
    "new_df['predicted_score'] = df['predicted_score'] \n",
    "\n"
   ]
  },
  {
   "cell_type": "code",
   "execution_count": 72,
   "metadata": {},
   "outputs": [],
   "source": [
    "# join is_recid and is_violent_recid to create a new column 'recidivism'\n",
    "new_df.insert(5, 'recidivism', new_df['is_recid'] + new_df['is_violent_recid'])\n",
    "\n",
    "# convert to string according to map 0 -> no, 1 -> normal, 2 -> violent\n",
    "new_df['recidivism'] = new_df['recidivism'].map({0: 'no', 1: 'normal', 2: 'violent'})\n",
    "\n",
    "# drop is_recid and is_violent_recid\n",
    "new_df = new_df.drop(columns=['is_recid', 'is_violent_recid'])"
   ]
  },
  {
   "cell_type": "code",
   "execution_count": 73,
   "metadata": {},
   "outputs": [],
   "source": [
    "# drop rows with missing values\n",
    "new_df = new_df.dropna()"
   ]
  },
  {
   "cell_type": "code",
   "execution_count": 74,
   "metadata": {},
   "outputs": [],
   "source": [
    "# convert columns to categorical\n",
    "for column in new_df.columns:\n",
    "    new_df[column] = new_df[column].astype('object')\n",
    "    \n",
    "# convert target columns to numerical\n",
    "new_df['predicted_score'] = new_df[column].astype('int')\n",
    "new_df['score_factor'] = new_df[column].astype('int')"
   ]
  },
  {
   "cell_type": "code",
   "execution_count": 75,
   "metadata": {},
   "outputs": [],
   "source": [
    "audit = Audit(new_df, label_column=\"predicted_score\", score_column=\"score_factor\", sensitive_attribute_column=[\"sex\", \"age_cat\", \"race\", \"recidivism\", \"c_charge_degree\", \"decile_score\", \"juv_fel_count\", \"juv_misd_count\", \"juv_other_count\", \"r_charge_degree\", \"vr_charge_degree\", \"score_text\", \"v_score_text\", \"two_year_recid\"])\n",
    "audit.audit()"
   ]
  }
 ],
 "metadata": {
  "kernelspec": {
   "display_name": "Python 3",
   "language": "python",
   "name": "python3"
  },
  "language_info": {
   "codemirror_mode": {
    "name": "ipython",
    "version": 3
   },
   "file_extension": ".py",
   "mimetype": "text/x-python",
   "name": "python",
   "nbconvert_exporter": "python",
   "pygments_lexer": "ipython3",
   "version": "3.11.9"
  }
 },
 "nbformat": 4,
 "nbformat_minor": 2
}
