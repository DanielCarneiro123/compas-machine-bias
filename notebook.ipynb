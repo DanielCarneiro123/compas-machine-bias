{
 "cells": [
  {
   "cell_type": "code",
   "execution_count": 2,
   "metadata": {},
   "outputs": [],
   "source": [
    "import pandas as pd\n",
    "import seaborn as sns\n",
    "from aequitas import Audit\n",
    "import aequitas.plot as ap\n",
    "\n",
    "import warnings; \n",
    "warnings.simplefilter('ignore')\n",
    "\n",
    "%matplotlib inline"
   ]
  },
  {
   "cell_type": "code",
   "execution_count": 3,
   "metadata": {},
   "outputs": [],
   "source": [
    "df = pd.read_csv(\"https://github.com/dssg/aequitas/raw/master/examples/data/compas_for_aequitas.csv\")\n",
    "df.head()"
   ]
  },
  {
   "cell_type": "code",
   "execution_count": 4,
   "metadata": {},
   "outputs": [],
   "source": [
    "aq_palette = sns.diverging_palette(225, 35, n=2)\n",
    "by_race = sns.countplot(x=\"race\", hue=\"score\", data=df[df.race.isin(['African-American', 'Caucasian', 'Hispanic'])], palette=aq_palette)"
   ]
  },
  {
   "cell_type": "code",
   "execution_count": 5,
   "metadata": {},
   "outputs": [],
   "source": [
    "by_sex = sns.countplot(x=\"sex\", hue=\"score\", data=df, palette=aq_palette)"
   ]
  },
  {
   "cell_type": "code",
   "execution_count": 6,
   "metadata": {},
   "outputs": [],
   "source": [
    "by_age = sns.countplot(x=\"age_cat\", hue=\"score\", data=df, palette=aq_palette)"
   ]
  },
  {
   "cell_type": "code",
   "execution_count": 7,
   "metadata": {},
   "outputs": [],
   "source": [
    "label_by_race = sns.countplot(x=\"race\", hue=\"label_value\", data=df[df.race.isin(['African-American', 'Caucasian', 'Hispanic'])], palette=aq_palette)"
   ]
  },
  {
   "cell_type": "code",
   "execution_count": 17,
   "metadata": {},
   "outputs": [],
   "source": [
    "df"
   ]
  },
  {
   "cell_type": "code",
   "execution_count": 13,
   "metadata": {},
   "outputs": [],
   "source": [
    "metrics = ['fpr','fdr']\n",
    "disparity_tolerance = 1.25"
   ]
  },
  {
   "cell_type": "code",
   "execution_count": 20,
   "metadata": {},
   "outputs": [],
   "source": [
    "audit = Audit(df.drop(columns=[\"entity_id\"]), label_column=\"label_value\", sensitive_attribute_column=[\"race\", \"sex\", \"age_cat\"])\n",
    "audit.audit()"
   ]
  },
  {
   "cell_type": "code",
   "execution_count": 9,
   "metadata": {},
   "outputs": [],
   "source": [
    "audit.confusion_matrix"
   ]
  },
  {
   "cell_type": "code",
   "execution_count": 10,
   "metadata": {},
   "outputs": [],
   "source": [
    "audit.metrics.round(2)"
   ]
  },
  {
   "cell_type": "code",
   "execution_count": null,
   "metadata": {},
   "outputs": [],
   "source": [
    "audit = Audit(df.drop(columns=[\"entity_id\"]), label_column=\"label_value\",\n",
    "              reference_groups={'race':'Caucasian', 'sex':'Male', 'age_cat':'25 - 45'})\n",
    "\n",
    "audit.audit(bias_args={\n",
    "    \"alpha\": 0.05,\n",
    "    \"check_significance\": True,\n",
    "    \"mask_significance\": True\n",
    "})\n",
    "\n",
    "audit.disparity_df.style"
   ]
  },
  {
   "cell_type": "code",
   "execution_count": 21,
   "metadata": {},
   "outputs": [
    {
     "data": {
      "text/html": [
       "<style type=\"text/css\">\n",
       "</style>\n",
       "<table id=\"T_1005a\">\n",
       "  <thead>\n",
       "    <tr>\n",
       "      <th class=\"blank\" >&nbsp;</th>\n",
       "      <th class=\"blank level0\" >&nbsp;</th>\n",
       "      <th id=\"T_1005a_level0_col0\" class=\"col_heading level0 col0\" >ppr_disparity</th>\n",
       "      <th id=\"T_1005a_level0_col1\" class=\"col_heading level0 col1\" >pprev_disparity</th>\n",
       "      <th id=\"T_1005a_level0_col2\" class=\"col_heading level0 col2\" >precision_disparity</th>\n",
       "      <th id=\"T_1005a_level0_col3\" class=\"col_heading level0 col3\" >fdr_disparity</th>\n",
       "      <th id=\"T_1005a_level0_col4\" class=\"col_heading level0 col4\" >for_disparity</th>\n",
       "      <th id=\"T_1005a_level0_col5\" class=\"col_heading level0 col5\" >fpr_disparity</th>\n",
       "      <th id=\"T_1005a_level0_col6\" class=\"col_heading level0 col6\" >fnr_disparity</th>\n",
       "      <th id=\"T_1005a_level0_col7\" class=\"col_heading level0 col7\" >tpr_disparity</th>\n",
       "      <th id=\"T_1005a_level0_col8\" class=\"col_heading level0 col8\" >tnr_disparity</th>\n",
       "      <th id=\"T_1005a_level0_col9\" class=\"col_heading level0 col9\" >npv_disparity</th>\n",
       "    </tr>\n",
       "    <tr>\n",
       "      <th class=\"index_name level0\" >attribute_name</th>\n",
       "      <th class=\"index_name level1\" >attribute_value</th>\n",
       "      <th class=\"blank col0\" >&nbsp;</th>\n",
       "      <th class=\"blank col1\" >&nbsp;</th>\n",
       "      <th class=\"blank col2\" >&nbsp;</th>\n",
       "      <th class=\"blank col3\" >&nbsp;</th>\n",
       "      <th class=\"blank col4\" >&nbsp;</th>\n",
       "      <th class=\"blank col5\" >&nbsp;</th>\n",
       "      <th class=\"blank col6\" >&nbsp;</th>\n",
       "      <th class=\"blank col7\" >&nbsp;</th>\n",
       "      <th class=\"blank col8\" >&nbsp;</th>\n",
       "      <th class=\"blank col9\" >&nbsp;</th>\n",
       "    </tr>\n",
       "  </thead>\n",
       "  <tbody>\n",
       "    <tr>\n",
       "      <th id=\"T_1005a_level0_row0\" class=\"row_heading level0 row0\" rowspan=\"6\">race</th>\n",
       "      <th id=\"T_1005a_level1_row0\" class=\"row_heading level1 row0\" >African-American</th>\n",
       "      <td id=\"T_1005a_row0_col0\" class=\"data row0 col0\" >1.000000</td>\n",
       "      <td id=\"T_1005a_row0_col1\" class=\"data row0 col1\" >1.000000</td>\n",
       "      <td id=\"T_1005a_row0_col2\" class=\"data row0 col2\" >1.000000</td>\n",
       "      <td id=\"T_1005a_row0_col3\" class=\"data row0 col3\" >1.000000</td>\n",
       "      <td id=\"T_1005a_row0_col4\" class=\"data row0 col4\" >1.000000</td>\n",
       "      <td id=\"T_1005a_row0_col5\" class=\"data row0 col5\" >1.000000</td>\n",
       "      <td id=\"T_1005a_row0_col6\" class=\"data row0 col6\" >1.000000</td>\n",
       "      <td id=\"T_1005a_row0_col7\" class=\"data row0 col7\" >1.000000</td>\n",
       "      <td id=\"T_1005a_row0_col8\" class=\"data row0 col8\" >1.000000</td>\n",
       "      <td id=\"T_1005a_row0_col9\" class=\"data row0 col9\" >1.000000</td>\n",
       "    </tr>\n",
       "    <tr>\n",
       "      <th id=\"T_1005a_level1_row1\" class=\"row_heading level1 row1\" >Asian</th>\n",
       "      <td id=\"T_1005a_row1_col0\" class=\"data row1 col0\" >0.003680</td>\n",
       "      <td id=\"T_1005a_row1_col1\" class=\"data row1 col1\" >0.425023</td>\n",
       "      <td id=\"T_1005a_row1_col2\" class=\"data row1 col2\" >1.191015</td>\n",
       "      <td id=\"T_1005a_row1_col3\" class=\"data row1 col3\" >0.675155</td>\n",
       "      <td id=\"T_1005a_row1_col4\" class=\"data row1 col4\" >0.357613</td>\n",
       "      <td id=\"T_1005a_row1_col5\" class=\"data row1 col5\" >0.193897</td>\n",
       "      <td id=\"T_1005a_row1_col6\" class=\"data row1 col6\" >1.191103</td>\n",
       "      <td id=\"T_1005a_row1_col7\" class=\"data row1 col7\" >0.925737</td>\n",
       "      <td id=\"T_1005a_row1_col8\" class=\"data row1 col8\" >1.655468</td>\n",
       "      <td id=\"T_1005a_row1_col9\" class=\"data row1 col9\" >1.345202</td>\n",
       "    </tr>\n",
       "    <tr>\n",
       "      <th id=\"T_1005a_level1_row2\" class=\"row_heading level1 row2\" >Caucasian</th>\n",
       "      <td id=\"T_1005a_row2_col0\" class=\"data row2 col0\" >0.392824</td>\n",
       "      <td id=\"T_1005a_row2_col1\" class=\"data row2 col1\" >0.591638</td>\n",
       "      <td id=\"T_1005a_row2_col2\" class=\"data row2 col2\" >0.939052</td>\n",
       "      <td id=\"T_1005a_row2_col3\" class=\"data row2 col3\" >1.103650</td>\n",
       "      <td id=\"T_1005a_row2_col4\" class=\"data row2 col4\" >0.824297</td>\n",
       "      <td id=\"T_1005a_row2_col5\" class=\"data row2 col5\" >0.522987</td>\n",
       "      <td id=\"T_1005a_row2_col6\" class=\"data row2 col6\" >1.705274</td>\n",
       "      <td id=\"T_1005a_row2_col7\" class=\"data row2 col7\" >0.725927</td>\n",
       "      <td id=\"T_1005a_row2_col8\" class=\"data row2 col8\" >1.387874</td>\n",
       "      <td id=\"T_1005a_row2_col9\" class=\"data row2 col9\" >1.094418</td>\n",
       "    </tr>\n",
       "    <tr>\n",
       "      <th id=\"T_1005a_level1_row3\" class=\"row_heading level1 row3\" >Hispanic</th>\n",
       "      <td id=\"T_1005a_row3_col0\" class=\"data row3 col0\" >0.087397</td>\n",
       "      <td id=\"T_1005a_row3_col1\" class=\"data row3 col1\" >0.507092</td>\n",
       "      <td id=\"T_1005a_row3_col2\" class=\"data row3 col2\" >0.860874</td>\n",
       "      <td id=\"T_1005a_row3_col3\" class=\"data row3 col3\" >1.236600</td>\n",
       "      <td id=\"T_1005a_row3_col4\" class=\"data row3 col4\" >0.825630</td>\n",
       "      <td id=\"T_1005a_row3_col5\" class=\"data row3 col5\" >0.478997</td>\n",
       "      <td id=\"T_1005a_row3_col6\" class=\"data row3 col6\" >1.986883</td>\n",
       "      <td id=\"T_1005a_row3_col7\" class=\"data row3 col7\" >0.616493</td>\n",
       "      <td id=\"T_1005a_row3_col8\" class=\"data row3 col8\" >1.423644</td>\n",
       "      <td id=\"T_1005a_row3_col9\" class=\"data row3 col9\" >1.093702</td>\n",
       "    </tr>\n",
       "    <tr>\n",
       "      <th id=\"T_1005a_level1_row4\" class=\"row_heading level1 row4\" >Native American</th>\n",
       "      <td id=\"T_1005a_row4_col0\" class=\"data row4 col0\" >0.005520</td>\n",
       "      <td id=\"T_1005a_row4_col1\" class=\"data row4 col1\" >1.133395</td>\n",
       "      <td id=\"T_1005a_row4_col2\" class=\"data row4 col2\" >1.191015</td>\n",
       "      <td id=\"T_1005a_row4_col3\" class=\"data row4 col3\" >0.675155</td>\n",
       "      <td id=\"T_1005a_row4_col4\" class=\"data row4 col4\" >0.476817</td>\n",
       "      <td id=\"T_1005a_row4_col5\" class=\"data row4 col5\" >0.836180</td>\n",
       "      <td id=\"T_1005a_row4_col6\" class=\"data row4 col6\" >0.357331</td>\n",
       "      <td id=\"T_1005a_row4_col7\" class=\"data row4 col7\" >1.249744</td>\n",
       "      <td id=\"T_1005a_row4_col8\" class=\"data row4 col8\" >1.133207</td>\n",
       "      <td id=\"T_1005a_row4_col9\" class=\"data row4 col9\" >1.281145</td>\n",
       "    </tr>\n",
       "    <tr>\n",
       "      <th id=\"T_1005a_level1_row5\" class=\"row_heading level1 row5\" >Other</th>\n",
       "      <td id=\"T_1005a_row5_col0\" class=\"data row5 col0\" >0.036339</td>\n",
       "      <td id=\"T_1005a_row5_col1\" class=\"data row5 col1\" >0.356253</td>\n",
       "      <td id=\"T_1005a_row5_col2\" class=\"data row5 col2\" >0.864366</td>\n",
       "      <td id=\"T_1005a_row5_col3\" class=\"data row5 col3\" >1.230663</td>\n",
       "      <td id=\"T_1005a_row5_col4\" class=\"data row5 col4\" >0.864031</td>\n",
       "      <td id=\"T_1005a_row5_col5\" class=\"data row5 col5\" >0.328989</td>\n",
       "      <td id=\"T_1005a_row5_col6\" class=\"data row5 col6\" >2.418028</td>\n",
       "      <td id=\"T_1005a_row5_col7\" class=\"data row5 col7\" >0.448947</td>\n",
       "      <td id=\"T_1005a_row5_col8\" class=\"data row5 col8\" >1.545620</td>\n",
       "      <td id=\"T_1005a_row5_col9\" class=\"data row5 col9\" >1.073066</td>\n",
       "    </tr>\n",
       "    <tr>\n",
       "      <th id=\"T_1005a_level0_row6\" class=\"row_heading level0 row6\" rowspan=\"2\">sex</th>\n",
       "      <th id=\"T_1005a_level1_row6\" class=\"row_heading level1 row6\" >Female</th>\n",
       "      <td id=\"T_1005a_row6_col0\" class=\"data row6 col0\" >0.216801</td>\n",
       "      <td id=\"T_1005a_row6_col1\" class=\"data row6 col1\" >0.904348</td>\n",
       "      <td id=\"T_1005a_row6_col2\" class=\"data row6 col2\" >0.806925</td>\n",
       "      <td id=\"T_1005a_row6_col3\" class=\"data row6 col3\" >1.336425</td>\n",
       "      <td id=\"T_1005a_row6_col4\" class=\"data row6 col4\" >0.734738</td>\n",
       "      <td id=\"T_1005a_row6_col5\" class=\"data row6 col5\" >0.990343</td>\n",
       "      <td id=\"T_1005a_row6_col6\" class=\"data row6 col6\" >1.055810</td>\n",
       "      <td id=\"T_1005a_row6_col7\" class=\"data row6 col7\" >0.967101</td>\n",
       "      <td id=\"T_1005a_row6_col8\" class=\"data row6 col8\" >1.004633</td>\n",
       "      <td id=\"T_1005a_row6_col9\" class=\"data row6 col9\" >1.130710</td>\n",
       "    </tr>\n",
       "    <tr>\n",
       "      <th id=\"T_1005a_level1_row7\" class=\"row_heading level1 row7\" >Male</th>\n",
       "      <td id=\"T_1005a_row7_col0\" class=\"data row7 col0\" >1.000000</td>\n",
       "      <td id=\"T_1005a_row7_col1\" class=\"data row7 col1\" >1.000000</td>\n",
       "      <td id=\"T_1005a_row7_col2\" class=\"data row7 col2\" >1.000000</td>\n",
       "      <td id=\"T_1005a_row7_col3\" class=\"data row7 col3\" >1.000000</td>\n",
       "      <td id=\"T_1005a_row7_col4\" class=\"data row7 col4\" >1.000000</td>\n",
       "      <td id=\"T_1005a_row7_col5\" class=\"data row7 col5\" >1.000000</td>\n",
       "      <td id=\"T_1005a_row7_col6\" class=\"data row7 col6\" >1.000000</td>\n",
       "      <td id=\"T_1005a_row7_col7\" class=\"data row7 col7\" >1.000000</td>\n",
       "      <td id=\"T_1005a_row7_col8\" class=\"data row7 col8\" >1.000000</td>\n",
       "      <td id=\"T_1005a_row7_col9\" class=\"data row7 col9\" >1.000000</td>\n",
       "    </tr>\n",
       "    <tr>\n",
       "      <th id=\"T_1005a_level0_row8\" class=\"row_heading level0 row8\" rowspan=\"3\">age_cat</th>\n",
       "      <th id=\"T_1005a_level1_row8\" class=\"row_heading level1 row8\" >25 - 45</th>\n",
       "      <td id=\"T_1005a_row8_col0\" class=\"data row8 col0\" >1.000000</td>\n",
       "      <td id=\"T_1005a_row8_col1\" class=\"data row8 col1\" >1.000000</td>\n",
       "      <td id=\"T_1005a_row8_col2\" class=\"data row8 col2\" >1.000000</td>\n",
       "      <td id=\"T_1005a_row8_col3\" class=\"data row8 col3\" >1.000000</td>\n",
       "      <td id=\"T_1005a_row8_col4\" class=\"data row8 col4\" >1.000000</td>\n",
       "      <td id=\"T_1005a_row8_col5\" class=\"data row8 col5\" >1.000000</td>\n",
       "      <td id=\"T_1005a_row8_col6\" class=\"data row8 col6\" >1.000000</td>\n",
       "      <td id=\"T_1005a_row8_col7\" class=\"data row8 col7\" >1.000000</td>\n",
       "      <td id=\"T_1005a_row8_col8\" class=\"data row8 col8\" >1.000000</td>\n",
       "      <td id=\"T_1005a_row8_col9\" class=\"data row8 col9\" >1.000000</td>\n",
       "    </tr>\n",
       "    <tr>\n",
       "      <th id=\"T_1005a_level1_row9\" class=\"row_heading level1 row9\" >Greater than 45</th>\n",
       "      <td id=\"T_1005a_row9_col0\" class=\"data row9 col0\" >0.204782</td>\n",
       "      <td id=\"T_1005a_row9_col1\" class=\"data row9 col1\" >0.533914</td>\n",
       "      <td id=\"T_1005a_row9_col2\" class=\"data row9 col2\" >0.879232</td>\n",
       "      <td id=\"T_1005a_row9_col3\" class=\"data row9 col3\" >1.192804</td>\n",
       "      <td id=\"T_1005a_row9_col4\" class=\"data row9 col4\" >0.746232</td>\n",
       "      <td id=\"T_1005a_row9_col5\" class=\"data row9 col5\" >0.503031</td>\n",
       "      <td id=\"T_1005a_row9_col6\" class=\"data row9 col6\" >1.531238</td>\n",
       "      <td id=\"T_1005a_row9_col7\" class=\"data row9 col7\" >0.682963</td>\n",
       "      <td id=\"T_1005a_row9_col8\" class=\"data row9 col8\" >1.248989</td>\n",
       "      <td id=\"T_1005a_row9_col9\" class=\"data row9 col9\" >1.121136</td>\n",
       "    </tr>\n",
       "    <tr>\n",
       "      <th id=\"T_1005a_level1_row10\" class=\"row_heading level1 row10\" >Less than 25</th>\n",
       "      <td id=\"T_1005a_row10_col0\" class=\"data row10 col0\" >0.519231</td>\n",
       "      <td id=\"T_1005a_row10_col1\" class=\"data row10 col1\" >1.395369</td>\n",
       "      <td id=\"T_1005a_row10_col2\" class=\"data row10 col2\" >1.040293</td>\n",
       "      <td id=\"T_1005a_row10_col3\" class=\"data row10 col3\" >0.935673</td>\n",
       "      <td id=\"T_1005a_row10_col4\" class=\"data row10 col4\" >1.313873</td>\n",
       "      <td id=\"T_1005a_row10_col5\" class=\"data row10 col5\" >1.621868</td>\n",
       "      <td id=\"T_1005a_row10_col6\" class=\"data row10 col6\" >0.696781</td>\n",
       "      <td id=\"T_1005a_row10_col7\" class=\"data row10 col7\" >1.180958</td>\n",
       "      <td id=\"T_1005a_row10_col8\" class=\"data row10 col8\" >0.688435</td>\n",
       "      <td id=\"T_1005a_row10_col9\" class=\"data row10 col9\" >0.850173</td>\n",
       "    </tr>\n",
       "  </tbody>\n",
       "</table>\n"
      ],
      "text/plain": [
       "<pandas.io.formats.style.Styler at 0x2c1d7c58d50>"
      ]
     },
     "execution_count": 21,
     "metadata": {},
     "output_type": "execute_result"
    }
   ],
   "source": [
    "audit.disparities.style"
   ]
  },
  {
   "cell_type": "code",
   "execution_count": 14,
   "metadata": {},
   "outputs": [
    {
     "data": {
      "text/html": [
       "\n",
       "<style>\n",
       "  #altair-viz-c14a4d0f90cd4923adcc9ed349700de5.vega-embed {\n",
       "    width: 100%;\n",
       "    display: flex;\n",
       "  }\n",
       "\n",
       "  #altair-viz-c14a4d0f90cd4923adcc9ed349700de5.vega-embed details,\n",
       "  #altair-viz-c14a4d0f90cd4923adcc9ed349700de5.vega-embed details summary {\n",
       "    position: relative;\n",
       "  }\n",
       "</style>\n",
       "<div id=\"altair-viz-c14a4d0f90cd4923adcc9ed349700de5\"></div>\n",
       "<script type=\"text/javascript\">\n",
       "  var VEGA_DEBUG = (typeof VEGA_DEBUG == \"undefined\") ? {} : VEGA_DEBUG;\n",
       "  (function(spec, embedOpt){\n",
       "    let outputDiv = document.currentScript.previousElementSibling;\n",
       "    if (outputDiv.id !== \"altair-viz-c14a4d0f90cd4923adcc9ed349700de5\") {\n",
       "      outputDiv = document.getElementById(\"altair-viz-c14a4d0f90cd4923adcc9ed349700de5\");\n",
       "    }\n",
       "    const paths = {\n",
       "      \"vega\": \"https://cdn.jsdelivr.net/npm/vega@5?noext\",\n",
       "      \"vega-lib\": \"https://cdn.jsdelivr.net/npm/vega-lib?noext\",\n",
       "      \"vega-lite\": \"https://cdn.jsdelivr.net/npm/vega-lite@5.20.1?noext\",\n",
       "      \"vega-embed\": \"https://cdn.jsdelivr.net/npm/vega-embed@6?noext\",\n",
       "    };\n",
       "\n",
       "    function maybeLoadScript(lib, version) {\n",
       "      var key = `${lib.replace(\"-\", \"\")}_version`;\n",
       "      return (VEGA_DEBUG[key] == version) ?\n",
       "        Promise.resolve(paths[lib]) :\n",
       "        new Promise(function(resolve, reject) {\n",
       "          var s = document.createElement('script');\n",
       "          document.getElementsByTagName(\"head\")[0].appendChild(s);\n",
       "          s.async = true;\n",
       "          s.onload = () => {\n",
       "            VEGA_DEBUG[key] = version;\n",
       "            return resolve(paths[lib]);\n",
       "          };\n",
       "          s.onerror = () => reject(`Error loading script: ${paths[lib]}`);\n",
       "          s.src = paths[lib];\n",
       "        });\n",
       "    }\n",
       "\n",
       "    function showError(err) {\n",
       "      outputDiv.innerHTML = `<div class=\"error\" style=\"color:red;\">${err}</div>`;\n",
       "      throw err;\n",
       "    }\n",
       "\n",
       "    function displayChart(vegaEmbed) {\n",
       "      vegaEmbed(outputDiv, spec, embedOpt)\n",
       "        .catch(err => showError(`Javascript Error: ${err.message}<br>This usually means there's a typo in your chart specification. See the javascript console for the full traceback.`));\n",
       "    }\n",
       "\n",
       "    if(typeof define === \"function\" && define.amd) {\n",
       "      requirejs.config({paths});\n",
       "      require([\"vega-embed\"], displayChart, err => showError(`Error loading script: ${err.message}`));\n",
       "    } else {\n",
       "      maybeLoadScript(\"vega\", \"5\")\n",
       "        .then(() => maybeLoadScript(\"vega-lite\", \"5.20.1\"))\n",
       "        .then(() => maybeLoadScript(\"vega-embed\", \"6\"))\n",
       "        .catch(showError)\n",
       "        .then(() => displayChart(vegaEmbed));\n",
       "    }\n",
       "  })({\"config\": {\"view\": {\"continuousWidth\": 300, \"continuousHeight\": 300, \"strokeWidth\": 0}, \"legend\": {\"labelColor\": \"rgb(102, 111, 137)\", \"labelFont\": \"Roboto, Arial, sans-serif\", \"labelFontSize\": 12, \"rowPadding\": 4, \"symbolSize\": 40, \"titleBaseline\": \"top\", \"titleColor\": \"rgb(25, 39, 78)\", \"titleFont\": \"Roboto, Arial, sans-serif\", \"titleFontSize\": 12, \"titleFontWeight\": \"bold\", \"titlePadding\": 8}}, \"vconcat\": [{\"hconcat\": [{\"vconcat\": [{\"mark\": {\"type\": \"text\", \"align\": \"center\", \"baseline\": \"middle\", \"color\": \"rgb(25, 39, 78)\", \"font\": \"Roboto, Arial, sans-serif\", \"fontWeight\": \"bold\", \"size\": 14}, \"encoding\": {\"text\": {\"value\": \"\"}}, \"height\": 32.25, \"width\": 80.0}, {\"layer\": [{\"mark\": {\"type\": \"text\", \"align\": \"center\", \"baseline\": \"middle\", \"color\": \"rgb(25, 39, 78)\", \"font\": \"Roboto, Arial, sans-serif\", \"fontWeight\": \"bold\", \"size\": 14}, \"encoding\": {\"text\": {\"value\": \"PREDICTIVE EQUALITY\"}, \"y\": {\"axis\": {\"domain\": false, \"grid\": false, \"labels\": false, \"ticks\": false, \"title\": null}, \"field\": \"y_position\", \"scale\": {\"domain\": [3, 1]}, \"type\": \"quantitative\"}}, \"transform\": [{\"calculate\": \"1.2\", \"as\": \"y_position\"}]}, {\"mark\": {\"type\": \"text\", \"align\": \"center\", \"baseline\": \"middle\", \"color\": \"rgb(102, 111, 137)\", \"font\": \"Roboto, Arial, sans-serif\", \"size\": 12}, \"encoding\": {\"text\": {\"value\": \"Groups\"}, \"y\": {\"axis\": {\"domain\": false, \"grid\": false, \"labels\": false, \"ticks\": false, \"title\": null}, \"field\": \"y_position\", \"scale\": {\"domain\": [3, 1]}, \"type\": \"quantitative\"}}, \"transform\": [{\"calculate\": \"2\", \"as\": \"y_position\"}]}, {\"mark\": {\"type\": \"text\", \"align\": \"center\", \"baseline\": \"middle\", \"color\": \"rgb(102, 111, 137)\", \"font\": \"Roboto, Arial, sans-serif\", \"size\": 12}, \"encoding\": {\"text\": {\"value\": \"% Pop.\"}, \"y\": {\"axis\": {\"domain\": false, \"grid\": false, \"labels\": false, \"ticks\": false, \"title\": null}, \"field\": \"y_position\", \"scale\": {\"domain\": [3, 1]}, \"type\": \"quantitative\"}}, \"transform\": [{\"calculate\": \"2.7\", \"as\": \"y_position\"}]}], \"height\": 69.875, \"width\": 80.0}, {\"layer\": [{\"mark\": {\"type\": \"text\", \"align\": \"center\", \"baseline\": \"middle\", \"color\": \"rgb(25, 39, 78)\", \"font\": \"Roboto, Arial, sans-serif\", \"fontWeight\": \"bold\", \"size\": 14}, \"encoding\": {\"text\": {\"value\": \"FDR\"}, \"y\": {\"axis\": {\"domain\": false, \"grid\": false, \"labels\": false, \"ticks\": false, \"title\": null}, \"field\": \"y_position\", \"scale\": {\"domain\": [3, 1]}, \"type\": \"quantitative\"}}, \"transform\": [{\"calculate\": \"1.2\", \"as\": \"y_position\"}]}, {\"mark\": {\"type\": \"text\", \"align\": \"center\", \"baseline\": \"middle\", \"color\": \"rgb(102, 111, 137)\", \"font\": \"Roboto, Arial, sans-serif\", \"size\": 12}, \"encoding\": {\"text\": {\"value\": \"Groups\"}, \"y\": {\"axis\": {\"domain\": false, \"grid\": false, \"labels\": false, \"ticks\": false, \"title\": null}, \"field\": \"y_position\", \"scale\": {\"domain\": [3, 1]}, \"type\": \"quantitative\"}}, \"transform\": [{\"calculate\": \"2\", \"as\": \"y_position\"}]}, {\"mark\": {\"type\": \"text\", \"align\": \"center\", \"baseline\": \"middle\", \"color\": \"rgb(102, 111, 137)\", \"font\": \"Roboto, Arial, sans-serif\", \"size\": 12}, \"encoding\": {\"text\": {\"value\": \"% Pop.\"}, \"y\": {\"axis\": {\"domain\": false, \"grid\": false, \"labels\": false, \"ticks\": false, \"title\": null}, \"field\": \"y_position\", \"scale\": {\"domain\": [3, 1]}, \"type\": \"quantitative\"}}, \"transform\": [{\"calculate\": \"2.7\", \"as\": \"y_position\"}]}], \"height\": 69.875, \"width\": 80.0}], \"bounds\": \"flush\", \"data\": {\"name\": \"data-de84bc8c822dac0bd3b12b0342548471\"}, \"spacing\": 21.5}, {\"hconcat\": [{\"vconcat\": [{\"data\": {\"name\": \"data-de84bc8c822dac0bd3b12b0342548471\"}, \"mark\": {\"type\": \"text\", \"align\": \"center\", \"baseline\": \"middle\", \"color\": \"rgb(25, 39, 78)\", \"font\": \"Roboto, Arial, sans-serif\", \"fontWeight\": \"bold\", \"size\": 14}, \"encoding\": {\"text\": {\"value\": \"Race\"}}, \"height\": 32.25, \"width\": 200.0}, {\"layer\": [{\"data\": {\"name\": \"data-78651e6cada553b412db642131edf322\"}, \"mark\": {\"type\": \"text\", \"align\": \"center\", \"baseline\": \"middle\", \"font\": \"Roboto, Arial, sans-serif\", \"fontWeight\": \"bold\", \"size\": 20}, \"encoding\": {\"color\": {\"field\": \"parity_result\", \"legend\": {\"offset\": 0, \"padding\": 20, \"title\": \"Parity Test\"}, \"scale\": {\"domain\": [\"Reference\", \"Pass\", \"Fail\"], \"range\": [\"rgb(102, 111, 137)\", \"rgb(0, 163, 158)\", \"rgb(211, 47, 47)\"]}, \"type\": \"ordinal\"}, \"text\": {\"value\": \"FAIL\"}, \"y\": {\"axis\": {\"domain\": false, \"grid\": false, \"labels\": false, \"ticks\": false, \"title\": null}, \"field\": \"y_position\", \"scale\": {\"domain\": [3, 1]}, \"type\": \"quantitative\"}}, \"transform\": [{\"calculate\": \"1\", \"as\": \"y_position\"}]}, {\"data\": {\"name\": \"data-c04b80618ba9e94936b84f6edc4e0ecd\"}, \"mark\": {\"type\": \"bar\", \"size\": 6, \"stroke\": \"white\"}, \"encoding\": {\"color\": {\"field\": \"fpr_parity_result\", \"legend\": null, \"scale\": {\"domain\": [\"Reference\", \"Pass\", \"Fail\"], \"range\": [\"rgb(102, 111, 137)\", \"rgb(0, 163, 158)\", \"rgb(211, 47, 47)\"]}, \"type\": \"ordinal\"}, \"tooltip\": [{\"field\": \"fpr_parity_result\", \"title\": \"Parity\", \"type\": \"nominal\"}, {\"field\": \"tooltip_group_size\", \"title\": \"Size\", \"type\": \"nominal\"}, {\"field\": \"tooltip_groups_name_size\", \"title\": \"Groups\", \"type\": \"nominal\"}], \"x\": {\"aggregate\": \"sum\", \"axis\": {\"domain\": false, \"grid\": false, \"labels\": false, \"ticks\": false, \"title\": null}, \"field\": \"group_size\", \"stack\": \"normalize\", \"type\": \"quantitative\"}, \"y\": {\"axis\": {\"domain\": false, \"grid\": false, \"labels\": false, \"ticks\": false, \"title\": null}, \"field\": \"y_position\", \"scale\": {\"domain\": [3, 1]}, \"type\": \"quantitative\"}}, \"transform\": [{\"calculate\": \"2.8\", \"as\": \"y_position\"}]}, {\"data\": {\"name\": \"data-effa1e8e84cd3d1801b89ef58427a533\"}, \"mark\": {\"type\": \"circle\", \"opacity\": 1}, \"encoding\": {\"color\": {\"field\": \"fpr_parity_result\", \"legend\": null, \"scale\": {\"domain\": [\"Reference\", \"Pass\", \"Fail\"], \"range\": [\"rgb(102, 111, 137)\", \"rgb(0, 163, 158)\", \"rgb(211, 47, 47)\"]}, \"type\": \"ordinal\"}, \"size\": {\"value\": 200}, \"tooltip\": [{\"field\": \"attribute_value\", \"title\": \"Group\", \"type\": \"nominal\"}, {\"field\": \"tooltip_group_size\", \"title\": \"Group Size\", \"type\": \"nominal\"}, {\"field\": \"tooltip_parity_test_explanation_fpr\", \"title\": \"Parity Test\", \"type\": \"nominal\"}, {\"field\": \"tooltip_disparity_explanation_fpr\", \"title\": \"Disparity\", \"type\": \"nominal\"}, {\"field\": \"fpr\", \"format\": \".2f\", \"title\": \"FPR\", \"type\": \"quantitative\"}], \"x\": {\"axis\": {\"domain\": false, \"grid\": false, \"labels\": false, \"ticks\": false, \"title\": null}, \"field\": \"fpr_disparity_rank\", \"scale\": {\"domain\": [-6, 6], \"nice\": false}, \"type\": \"quantitative\"}, \"y\": {\"axis\": {\"domain\": false, \"grid\": false, \"labels\": false, \"ticks\": false, \"title\": null}, \"field\": \"y_position\", \"scale\": {\"domain\": [3, 1]}, \"type\": \"quantitative\"}}, \"transform\": [{\"calculate\": \"2\", \"as\": \"y_position\"}]}], \"height\": 69.875, \"resolve\": {\"scale\": {\"x\": \"independent\"}}, \"width\": 200.0}, {\"layer\": [{\"data\": {\"name\": \"data-78651e6cada553b412db642131edf322\"}, \"mark\": {\"type\": \"text\", \"align\": \"center\", \"baseline\": \"middle\", \"font\": \"Roboto, Arial, sans-serif\", \"fontWeight\": \"bold\", \"size\": 20}, \"encoding\": {\"color\": {\"field\": \"parity_result\", \"legend\": {\"offset\": 0, \"padding\": 20, \"title\": \"Parity Test\"}, \"scale\": {\"domain\": [\"Reference\", \"Pass\", \"Fail\"], \"range\": [\"rgb(102, 111, 137)\", \"rgb(0, 163, 158)\", \"rgb(211, 47, 47)\"]}, \"type\": \"ordinal\"}, \"text\": {\"value\": \"FAIL\"}, \"y\": {\"axis\": {\"domain\": false, \"grid\": false, \"labels\": false, \"ticks\": false, \"title\": null}, \"field\": \"y_position\", \"scale\": {\"domain\": [3, 1]}, \"type\": \"quantitative\"}}, \"transform\": [{\"calculate\": \"1\", \"as\": \"y_position\"}]}, {\"data\": {\"name\": \"data-acd34737adcea6c51451f724b851a6f1\"}, \"mark\": {\"type\": \"bar\", \"size\": 6, \"stroke\": \"white\"}, \"encoding\": {\"color\": {\"field\": \"fdr_parity_result\", \"legend\": null, \"scale\": {\"domain\": [\"Reference\", \"Pass\", \"Fail\"], \"range\": [\"rgb(102, 111, 137)\", \"rgb(0, 163, 158)\", \"rgb(211, 47, 47)\"]}, \"type\": \"ordinal\"}, \"tooltip\": [{\"field\": \"fdr_parity_result\", \"title\": \"Parity\", \"type\": \"nominal\"}, {\"field\": \"tooltip_group_size\", \"title\": \"Size\", \"type\": \"nominal\"}, {\"field\": \"tooltip_groups_name_size\", \"title\": \"Groups\", \"type\": \"nominal\"}], \"x\": {\"aggregate\": \"sum\", \"axis\": {\"domain\": false, \"grid\": false, \"labels\": false, \"ticks\": false, \"title\": null}, \"field\": \"group_size\", \"stack\": \"normalize\", \"type\": \"quantitative\"}, \"y\": {\"axis\": {\"domain\": false, \"grid\": false, \"labels\": false, \"ticks\": false, \"title\": null}, \"field\": \"y_position\", \"scale\": {\"domain\": [3, 1]}, \"type\": \"quantitative\"}}, \"transform\": [{\"calculate\": \"2.8\", \"as\": \"y_position\"}]}, {\"data\": {\"name\": \"data-effa1e8e84cd3d1801b89ef58427a533\"}, \"mark\": {\"type\": \"circle\", \"opacity\": 1}, \"encoding\": {\"color\": {\"field\": \"fdr_parity_result\", \"legend\": null, \"scale\": {\"domain\": [\"Reference\", \"Pass\", \"Fail\"], \"range\": [\"rgb(102, 111, 137)\", \"rgb(0, 163, 158)\", \"rgb(211, 47, 47)\"]}, \"type\": \"ordinal\"}, \"size\": {\"value\": 200}, \"tooltip\": [{\"field\": \"attribute_value\", \"title\": \"Group\", \"type\": \"nominal\"}, {\"field\": \"tooltip_group_size\", \"title\": \"Group Size\", \"type\": \"nominal\"}, {\"field\": \"tooltip_parity_test_explanation_fdr\", \"title\": \"Parity Test\", \"type\": \"nominal\"}, {\"field\": \"tooltip_disparity_explanation_fdr\", \"title\": \"Disparity\", \"type\": \"nominal\"}, {\"field\": \"fdr\", \"format\": \".2f\", \"title\": \"FDR\", \"type\": \"quantitative\"}], \"x\": {\"axis\": {\"domain\": false, \"grid\": false, \"labels\": false, \"ticks\": false, \"title\": null}, \"field\": \"fdr_disparity_rank\", \"scale\": {\"domain\": [-6, 6], \"nice\": false}, \"type\": \"quantitative\"}, \"y\": {\"axis\": {\"domain\": false, \"grid\": false, \"labels\": false, \"ticks\": false, \"title\": null}, \"field\": \"y_position\", \"scale\": {\"domain\": [3, 1]}, \"type\": \"quantitative\"}}, \"transform\": [{\"calculate\": \"2\", \"as\": \"y_position\"}]}], \"height\": 69.875, \"resolve\": {\"scale\": {\"x\": \"independent\"}}, \"width\": 200.0}], \"bounds\": \"flush\", \"spacing\": 21.5}, {\"vconcat\": [{\"data\": {\"name\": \"data-de84bc8c822dac0bd3b12b0342548471\"}, \"mark\": {\"type\": \"text\", \"align\": \"center\", \"baseline\": \"middle\", \"color\": \"rgb(25, 39, 78)\", \"font\": \"Roboto, Arial, sans-serif\", \"fontWeight\": \"bold\", \"size\": 14}, \"encoding\": {\"text\": {\"value\": \"Sex\"}}, \"height\": 32.25, \"width\": 200.0}, {\"layer\": [{\"data\": {\"name\": \"data-9bcb10b75dc494b69ff88af9b90db2a8\"}, \"mark\": {\"type\": \"text\", \"align\": \"center\", \"baseline\": \"middle\", \"font\": \"Roboto, Arial, sans-serif\", \"fontWeight\": \"bold\", \"size\": 20}, \"encoding\": {\"color\": {\"field\": \"parity_result\", \"legend\": {\"offset\": 0, \"padding\": 20, \"title\": \"Parity Test\"}, \"scale\": {\"domain\": [\"Reference\", \"Pass\", \"Fail\"], \"range\": [\"rgb(102, 111, 137)\", \"rgb(0, 163, 158)\", \"rgb(211, 47, 47)\"]}, \"type\": \"ordinal\"}, \"text\": {\"value\": \"PASS\"}, \"y\": {\"axis\": {\"domain\": false, \"grid\": false, \"labels\": false, \"ticks\": false, \"title\": null}, \"field\": \"y_position\", \"scale\": {\"domain\": [3, 1]}, \"type\": \"quantitative\"}}, \"transform\": [{\"calculate\": \"1\", \"as\": \"y_position\"}]}, {\"data\": {\"name\": \"data-7b47e5e2b92f49c104105f1e0fc09737\"}, \"mark\": {\"type\": \"bar\", \"size\": 6, \"stroke\": \"white\"}, \"encoding\": {\"color\": {\"field\": \"fpr_parity_result\", \"legend\": null, \"scale\": {\"domain\": [\"Reference\", \"Pass\", \"Fail\"], \"range\": [\"rgb(102, 111, 137)\", \"rgb(0, 163, 158)\", \"rgb(211, 47, 47)\"]}, \"type\": \"ordinal\"}, \"tooltip\": [{\"field\": \"fpr_parity_result\", \"title\": \"Parity\", \"type\": \"nominal\"}, {\"field\": \"tooltip_group_size\", \"title\": \"Size\", \"type\": \"nominal\"}, {\"field\": \"tooltip_groups_name_size\", \"title\": \"Groups\", \"type\": \"nominal\"}], \"x\": {\"aggregate\": \"sum\", \"axis\": {\"domain\": false, \"grid\": false, \"labels\": false, \"ticks\": false, \"title\": null}, \"field\": \"group_size\", \"stack\": \"normalize\", \"type\": \"quantitative\"}, \"y\": {\"axis\": {\"domain\": false, \"grid\": false, \"labels\": false, \"ticks\": false, \"title\": null}, \"field\": \"y_position\", \"scale\": {\"domain\": [3, 1]}, \"type\": \"quantitative\"}}, \"transform\": [{\"calculate\": \"2.8\", \"as\": \"y_position\"}]}, {\"data\": {\"name\": \"data-4d6c69c7055c82b5de8699d88d5cd1c8\"}, \"mark\": {\"type\": \"circle\", \"opacity\": 1}, \"encoding\": {\"color\": {\"field\": \"fpr_parity_result\", \"legend\": null, \"scale\": {\"domain\": [\"Reference\", \"Pass\", \"Fail\"], \"range\": [\"rgb(102, 111, 137)\", \"rgb(0, 163, 158)\", \"rgb(211, 47, 47)\"]}, \"type\": \"ordinal\"}, \"size\": {\"value\": 200}, \"tooltip\": [{\"field\": \"attribute_value\", \"title\": \"Group\", \"type\": \"nominal\"}, {\"field\": \"tooltip_group_size\", \"title\": \"Group Size\", \"type\": \"nominal\"}, {\"field\": \"tooltip_parity_test_explanation_fpr\", \"title\": \"Parity Test\", \"type\": \"nominal\"}, {\"field\": \"tooltip_disparity_explanation_fpr\", \"title\": \"Disparity\", \"type\": \"nominal\"}, {\"field\": \"fpr\", \"format\": \".2f\", \"title\": \"FPR\", \"type\": \"quantitative\"}], \"x\": {\"axis\": {\"domain\": false, \"grid\": false, \"labels\": false, \"ticks\": false, \"title\": null}, \"field\": \"fpr_disparity_rank\", \"scale\": {\"domain\": [-6, 6], \"nice\": false}, \"type\": \"quantitative\"}, \"y\": {\"axis\": {\"domain\": false, \"grid\": false, \"labels\": false, \"ticks\": false, \"title\": null}, \"field\": \"y_position\", \"scale\": {\"domain\": [3, 1]}, \"type\": \"quantitative\"}}, \"transform\": [{\"calculate\": \"2\", \"as\": \"y_position\"}]}], \"height\": 69.875, \"resolve\": {\"scale\": {\"x\": \"independent\"}}, \"width\": 200.0}, {\"layer\": [{\"data\": {\"name\": \"data-78651e6cada553b412db642131edf322\"}, \"mark\": {\"type\": \"text\", \"align\": \"center\", \"baseline\": \"middle\", \"font\": \"Roboto, Arial, sans-serif\", \"fontWeight\": \"bold\", \"size\": 20}, \"encoding\": {\"color\": {\"field\": \"parity_result\", \"legend\": {\"offset\": 0, \"padding\": 20, \"title\": \"Parity Test\"}, \"scale\": {\"domain\": [\"Reference\", \"Pass\", \"Fail\"], \"range\": [\"rgb(102, 111, 137)\", \"rgb(0, 163, 158)\", \"rgb(211, 47, 47)\"]}, \"type\": \"ordinal\"}, \"text\": {\"value\": \"FAIL\"}, \"y\": {\"axis\": {\"domain\": false, \"grid\": false, \"labels\": false, \"ticks\": false, \"title\": null}, \"field\": \"y_position\", \"scale\": {\"domain\": [3, 1]}, \"type\": \"quantitative\"}}, \"transform\": [{\"calculate\": \"1\", \"as\": \"y_position\"}]}, {\"data\": {\"name\": \"data-b249c1ad7737c88e7fb50967d82fe698\"}, \"mark\": {\"type\": \"bar\", \"size\": 6, \"stroke\": \"white\"}, \"encoding\": {\"color\": {\"field\": \"fdr_parity_result\", \"legend\": null, \"scale\": {\"domain\": [\"Reference\", \"Pass\", \"Fail\"], \"range\": [\"rgb(102, 111, 137)\", \"rgb(0, 163, 158)\", \"rgb(211, 47, 47)\"]}, \"type\": \"ordinal\"}, \"tooltip\": [{\"field\": \"fdr_parity_result\", \"title\": \"Parity\", \"type\": \"nominal\"}, {\"field\": \"tooltip_group_size\", \"title\": \"Size\", \"type\": \"nominal\"}, {\"field\": \"tooltip_groups_name_size\", \"title\": \"Groups\", \"type\": \"nominal\"}], \"x\": {\"aggregate\": \"sum\", \"axis\": {\"domain\": false, \"grid\": false, \"labels\": false, \"ticks\": false, \"title\": null}, \"field\": \"group_size\", \"stack\": \"normalize\", \"type\": \"quantitative\"}, \"y\": {\"axis\": {\"domain\": false, \"grid\": false, \"labels\": false, \"ticks\": false, \"title\": null}, \"field\": \"y_position\", \"scale\": {\"domain\": [3, 1]}, \"type\": \"quantitative\"}}, \"transform\": [{\"calculate\": \"2.8\", \"as\": \"y_position\"}]}, {\"data\": {\"name\": \"data-4d6c69c7055c82b5de8699d88d5cd1c8\"}, \"mark\": {\"type\": \"circle\", \"opacity\": 1}, \"encoding\": {\"color\": {\"field\": \"fdr_parity_result\", \"legend\": null, \"scale\": {\"domain\": [\"Reference\", \"Pass\", \"Fail\"], \"range\": [\"rgb(102, 111, 137)\", \"rgb(0, 163, 158)\", \"rgb(211, 47, 47)\"]}, \"type\": \"ordinal\"}, \"size\": {\"value\": 200}, \"tooltip\": [{\"field\": \"attribute_value\", \"title\": \"Group\", \"type\": \"nominal\"}, {\"field\": \"tooltip_group_size\", \"title\": \"Group Size\", \"type\": \"nominal\"}, {\"field\": \"tooltip_parity_test_explanation_fdr\", \"title\": \"Parity Test\", \"type\": \"nominal\"}, {\"field\": \"tooltip_disparity_explanation_fdr\", \"title\": \"Disparity\", \"type\": \"nominal\"}, {\"field\": \"fdr\", \"format\": \".2f\", \"title\": \"FDR\", \"type\": \"quantitative\"}], \"x\": {\"axis\": {\"domain\": false, \"grid\": false, \"labels\": false, \"ticks\": false, \"title\": null}, \"field\": \"fdr_disparity_rank\", \"scale\": {\"domain\": [-6, 6], \"nice\": false}, \"type\": \"quantitative\"}, \"y\": {\"axis\": {\"domain\": false, \"grid\": false, \"labels\": false, \"ticks\": false, \"title\": null}, \"field\": \"y_position\", \"scale\": {\"domain\": [3, 1]}, \"type\": \"quantitative\"}}, \"transform\": [{\"calculate\": \"2\", \"as\": \"y_position\"}]}], \"height\": 69.875, \"resolve\": {\"scale\": {\"x\": \"independent\"}}, \"width\": 200.0}], \"bounds\": \"flush\", \"spacing\": 21.5}, {\"vconcat\": [{\"data\": {\"name\": \"data-de84bc8c822dac0bd3b12b0342548471\"}, \"mark\": {\"type\": \"text\", \"align\": \"center\", \"baseline\": \"middle\", \"color\": \"rgb(25, 39, 78)\", \"font\": \"Roboto, Arial, sans-serif\", \"fontWeight\": \"bold\", \"size\": 14}, \"encoding\": {\"text\": {\"value\": \"Age_Cat\"}}, \"height\": 32.25, \"width\": 200.0}, {\"layer\": [{\"data\": {\"name\": \"data-78651e6cada553b412db642131edf322\"}, \"mark\": {\"type\": \"text\", \"align\": \"center\", \"baseline\": \"middle\", \"font\": \"Roboto, Arial, sans-serif\", \"fontWeight\": \"bold\", \"size\": 20}, \"encoding\": {\"color\": {\"field\": \"parity_result\", \"legend\": {\"offset\": 0, \"padding\": 20, \"title\": \"Parity Test\"}, \"scale\": {\"domain\": [\"Reference\", \"Pass\", \"Fail\"], \"range\": [\"rgb(102, 111, 137)\", \"rgb(0, 163, 158)\", \"rgb(211, 47, 47)\"]}, \"type\": \"ordinal\"}, \"text\": {\"value\": \"FAIL\"}, \"y\": {\"axis\": {\"domain\": false, \"grid\": false, \"labels\": false, \"ticks\": false, \"title\": null}, \"field\": \"y_position\", \"scale\": {\"domain\": [3, 1]}, \"type\": \"quantitative\"}}, \"transform\": [{\"calculate\": \"1\", \"as\": \"y_position\"}]}, {\"data\": {\"name\": \"data-db2c2ffc5bd54e1478899b3091e0a734\"}, \"mark\": {\"type\": \"bar\", \"size\": 6, \"stroke\": \"white\"}, \"encoding\": {\"color\": {\"field\": \"fpr_parity_result\", \"legend\": null, \"scale\": {\"domain\": [\"Reference\", \"Pass\", \"Fail\"], \"range\": [\"rgb(102, 111, 137)\", \"rgb(0, 163, 158)\", \"rgb(211, 47, 47)\"]}, \"type\": \"ordinal\"}, \"tooltip\": [{\"field\": \"fpr_parity_result\", \"title\": \"Parity\", \"type\": \"nominal\"}, {\"field\": \"tooltip_group_size\", \"title\": \"Size\", \"type\": \"nominal\"}, {\"field\": \"tooltip_groups_name_size\", \"title\": \"Groups\", \"type\": \"nominal\"}], \"x\": {\"aggregate\": \"sum\", \"axis\": {\"domain\": false, \"grid\": false, \"labels\": false, \"ticks\": false, \"title\": null}, \"field\": \"group_size\", \"stack\": \"normalize\", \"type\": \"quantitative\"}, \"y\": {\"axis\": {\"domain\": false, \"grid\": false, \"labels\": false, \"ticks\": false, \"title\": null}, \"field\": \"y_position\", \"scale\": {\"domain\": [3, 1]}, \"type\": \"quantitative\"}}, \"transform\": [{\"calculate\": \"2.8\", \"as\": \"y_position\"}]}, {\"data\": {\"name\": \"data-2d488c32856b997db6d857c805ac5a0e\"}, \"mark\": {\"type\": \"circle\", \"opacity\": 1}, \"encoding\": {\"color\": {\"field\": \"fpr_parity_result\", \"legend\": null, \"scale\": {\"domain\": [\"Reference\", \"Pass\", \"Fail\"], \"range\": [\"rgb(102, 111, 137)\", \"rgb(0, 163, 158)\", \"rgb(211, 47, 47)\"]}, \"type\": \"ordinal\"}, \"size\": {\"value\": 200}, \"tooltip\": [{\"field\": \"attribute_value\", \"title\": \"Group\", \"type\": \"nominal\"}, {\"field\": \"tooltip_group_size\", \"title\": \"Group Size\", \"type\": \"nominal\"}, {\"field\": \"tooltip_parity_test_explanation_fpr\", \"title\": \"Parity Test\", \"type\": \"nominal\"}, {\"field\": \"tooltip_disparity_explanation_fpr\", \"title\": \"Disparity\", \"type\": \"nominal\"}, {\"field\": \"fpr\", \"format\": \".2f\", \"title\": \"FPR\", \"type\": \"quantitative\"}], \"x\": {\"axis\": {\"domain\": false, \"grid\": false, \"labels\": false, \"ticks\": false, \"title\": null}, \"field\": \"fpr_disparity_rank\", \"scale\": {\"domain\": [-6, 6], \"nice\": false}, \"type\": \"quantitative\"}, \"y\": {\"axis\": {\"domain\": false, \"grid\": false, \"labels\": false, \"ticks\": false, \"title\": null}, \"field\": \"y_position\", \"scale\": {\"domain\": [3, 1]}, \"type\": \"quantitative\"}}, \"transform\": [{\"calculate\": \"2\", \"as\": \"y_position\"}]}], \"height\": 69.875, \"resolve\": {\"scale\": {\"x\": \"independent\"}}, \"width\": 200.0}, {\"layer\": [{\"data\": {\"name\": \"data-9bcb10b75dc494b69ff88af9b90db2a8\"}, \"mark\": {\"type\": \"text\", \"align\": \"center\", \"baseline\": \"middle\", \"font\": \"Roboto, Arial, sans-serif\", \"fontWeight\": \"bold\", \"size\": 20}, \"encoding\": {\"color\": {\"field\": \"parity_result\", \"legend\": {\"offset\": 0, \"padding\": 20, \"title\": \"Parity Test\"}, \"scale\": {\"domain\": [\"Reference\", \"Pass\", \"Fail\"], \"range\": [\"rgb(102, 111, 137)\", \"rgb(0, 163, 158)\", \"rgb(211, 47, 47)\"]}, \"type\": \"ordinal\"}, \"text\": {\"value\": \"PASS\"}, \"y\": {\"axis\": {\"domain\": false, \"grid\": false, \"labels\": false, \"ticks\": false, \"title\": null}, \"field\": \"y_position\", \"scale\": {\"domain\": [3, 1]}, \"type\": \"quantitative\"}}, \"transform\": [{\"calculate\": \"1\", \"as\": \"y_position\"}]}, {\"data\": {\"name\": \"data-563cecf5180210110a42852258fdaa3d\"}, \"mark\": {\"type\": \"bar\", \"size\": 6, \"stroke\": \"white\"}, \"encoding\": {\"color\": {\"field\": \"fdr_parity_result\", \"legend\": null, \"scale\": {\"domain\": [\"Reference\", \"Pass\", \"Fail\"], \"range\": [\"rgb(102, 111, 137)\", \"rgb(0, 163, 158)\", \"rgb(211, 47, 47)\"]}, \"type\": \"ordinal\"}, \"tooltip\": [{\"field\": \"fdr_parity_result\", \"title\": \"Parity\", \"type\": \"nominal\"}, {\"field\": \"tooltip_group_size\", \"title\": \"Size\", \"type\": \"nominal\"}, {\"field\": \"tooltip_groups_name_size\", \"title\": \"Groups\", \"type\": \"nominal\"}], \"x\": {\"aggregate\": \"sum\", \"axis\": {\"domain\": false, \"grid\": false, \"labels\": false, \"ticks\": false, \"title\": null}, \"field\": \"group_size\", \"stack\": \"normalize\", \"type\": \"quantitative\"}, \"y\": {\"axis\": {\"domain\": false, \"grid\": false, \"labels\": false, \"ticks\": false, \"title\": null}, \"field\": \"y_position\", \"scale\": {\"domain\": [3, 1]}, \"type\": \"quantitative\"}}, \"transform\": [{\"calculate\": \"2.8\", \"as\": \"y_position\"}]}, {\"data\": {\"name\": \"data-2d488c32856b997db6d857c805ac5a0e\"}, \"mark\": {\"type\": \"circle\", \"opacity\": 1}, \"encoding\": {\"color\": {\"field\": \"fdr_parity_result\", \"legend\": null, \"scale\": {\"domain\": [\"Reference\", \"Pass\", \"Fail\"], \"range\": [\"rgb(102, 111, 137)\", \"rgb(0, 163, 158)\", \"rgb(211, 47, 47)\"]}, \"type\": \"ordinal\"}, \"size\": {\"value\": 200}, \"tooltip\": [{\"field\": \"attribute_value\", \"title\": \"Group\", \"type\": \"nominal\"}, {\"field\": \"tooltip_group_size\", \"title\": \"Group Size\", \"type\": \"nominal\"}, {\"field\": \"tooltip_parity_test_explanation_fdr\", \"title\": \"Parity Test\", \"type\": \"nominal\"}, {\"field\": \"tooltip_disparity_explanation_fdr\", \"title\": \"Disparity\", \"type\": \"nominal\"}, {\"field\": \"fdr\", \"format\": \".2f\", \"title\": \"FDR\", \"type\": \"quantitative\"}], \"x\": {\"axis\": {\"domain\": false, \"grid\": false, \"labels\": false, \"ticks\": false, \"title\": null}, \"field\": \"fdr_disparity_rank\", \"scale\": {\"domain\": [-6, 6], \"nice\": false}, \"type\": \"quantitative\"}, \"y\": {\"axis\": {\"domain\": false, \"grid\": false, \"labels\": false, \"ticks\": false, \"title\": null}, \"field\": \"y_position\", \"scale\": {\"domain\": [3, 1]}, \"type\": \"quantitative\"}}, \"transform\": [{\"calculate\": \"2\", \"as\": \"y_position\"}]}], \"height\": 69.875, \"resolve\": {\"scale\": {\"x\": \"independent\"}}, \"width\": 200.0}], \"bounds\": \"flush\", \"spacing\": 21.5}], \"bounds\": \"flush\", \"spacing\": 240.0}], \"bounds\": \"flush\", \"spacing\": 120.0}, {\"layer\": [{\"mark\": {\"type\": \"text\", \"align\": \"left\", \"baseline\": \"top\", \"fill\": \"rgb(102, 111, 137)\", \"font\": \"Roboto, Arial, sans-serif\", \"fontSize\": 12, \"fontWeight\": \"normal\"}, \"encoding\": {\"text\": {\"value\": \"For a group to pass the parity test its disparity to the reference group cannot exceed the fairness threshold (1.25).\"}, \"x\": {\"value\": 20.0}, \"y\": {\"value\": 0}}}, {\"mark\": {\"type\": \"text\", \"align\": \"left\", \"baseline\": \"top\", \"fill\": \"rgb(102, 111, 137)\", \"font\": \"Roboto, Arial, sans-serif\", \"fontSize\": 12, \"fontWeight\": \"normal\"}, \"encoding\": {\"text\": {\"value\": \"An attribute passes the parity test for a given metric if all its groups pass the test.\"}, \"x\": {\"value\": 20.0}, \"y\": {\"value\": 15.0}}}], \"data\": {\"name\": \"data-de84bc8c822dac0bd3b12b0342548471\"}}], \"padding\": 15, \"usermeta\": {\"embedOptions\": {\"scaleFactor\": 5, \"downloadFileName\": \"summary_chart\"}}, \"$schema\": \"https://vega.github.io/schema/vega-lite/v5.20.1.json\", \"datasets\": {\"data-de84bc8c822dac0bd3b12b0342548471\": [{\"a\": 1, \"b\": 0}, {\"a\": 1, \"b\": 0}], \"data-78651e6cada553b412db642131edf322\": [{\"parity_result\": \"Fail\"}], \"data-c04b80618ba9e94936b84f6edc4e0ecd\": [{\"fpr_parity_result\": \"Fail\", \"attribute_name\": \"race\", \"total_entities\": 7214, \"group_size\": 4123, \"tooltip_groups_name_size\": \"African-American (3,696), Asian (32), Native American (18), Other (377)\", \"tooltip_group_size\": \"4,123 (57.15%)\"}, {\"fpr_parity_result\": \"Pass\", \"attribute_name\": \"race\", \"total_entities\": 7214, \"group_size\": 637, \"tooltip_groups_name_size\": \"Hispanic (637)\", \"tooltip_group_size\": \"637 (8.83%)\"}, {\"fpr_parity_result\": \"Reference\", \"attribute_name\": \"race\", \"total_entities\": 7214, \"group_size\": 2454, \"tooltip_groups_name_size\": \"Caucasian (2,454)\", \"tooltip_group_size\": \"2,454 (34.02%)\"}], \"data-effa1e8e84cd3d1801b89ef58427a533\": [{\"attribute_name\": \"race\", \"attribute_value\": \"African-American\", \"group_size\": 3696, \"total_entities\": 7214, \"ref_group_value\": \"Caucasian\", \"fpr\": 0.44846796657381616, \"fdr\": 0.3702851885924563, \"fpr_disparity\": 1.9120926483147231, \"fdr_disparity\": 0.9060846735185033, \"fpr_disparity_scaled\": 0.9120926483147231, \"fpr_parity_result\": \"Fail\", \"tooltip_parity_test_explanation_fpr\": \"Fail. Above fairness threshold of 1.25\", \"tooltip_disparity_explanation_fpr\": \"1.91 times larger FPR than the reference group\", \"tooltip_group_size\": \"3,696 (51.23%)\", \"fpr_disparity_rank\": 2.0, \"group_size_formatted\": \"3,696\", \"tooltip_groups_name_size\": \"African-American (3,696)\", \"fdr_disparity_scaled\": -0.10364961380132964, \"fdr_parity_result\": \"Pass\", \"tooltip_parity_test_explanation_fdr\": \"Pass. Below fairness threshold of 1.25\", \"tooltip_disparity_explanation_fdr\": \"1.10 times smaller FDR than the reference group\", \"fdr_disparity_rank\": -1.0}, {\"attribute_name\": \"race\", \"attribute_value\": \"Asian\", \"group_size\": 32, \"total_entities\": 7214, \"ref_group_value\": \"Caucasian\", \"fpr\": 0.08695652173913043, \"fdr\": 0.25, \"fpr_disparity\": 0.37074872305967355, \"fdr_disparity\": 0.6117478510028653, \"fpr_disparity_scaled\": -1.6972446236559144, \"fpr_parity_result\": \"Fail\", \"tooltip_parity_test_explanation_fpr\": \"Fail. Above fairness threshold of 1.25\", \"tooltip_disparity_explanation_fpr\": \"2.70 times smaller FPR than the reference group\", \"tooltip_group_size\": \"32 (0.44%)\", \"fpr_disparity_rank\": -3.0, \"group_size_formatted\": \"32\", \"tooltip_groups_name_size\": \"Asian (32)\", \"fdr_disparity_scaled\": -0.6346604215456675, \"fdr_parity_result\": \"Fail\", \"tooltip_parity_test_explanation_fdr\": \"Fail. Above fairness threshold of 1.25\", \"tooltip_disparity_explanation_fdr\": \"1.63 times smaller FDR than the reference group\", \"fdr_disparity_rank\": -3.0}, {\"attribute_name\": \"race\", \"attribute_value\": \"Caucasian\", \"group_size\": 2454, \"total_entities\": 7214, \"ref_group_value\": \"Caucasian\", \"fpr\": 0.23454301075268819, \"fdr\": 0.40866510538641687, \"fpr_disparity\": 1.0, \"fdr_disparity\": 1.0, \"fpr_disparity_scaled\": 0.0, \"fpr_parity_result\": \"Reference\", \"tooltip_parity_test_explanation_fpr\": \"Reference group\", \"tooltip_disparity_explanation_fpr\": \"Reference group\", \"tooltip_group_size\": \"2,454 (34.02%)\", \"fpr_disparity_rank\": 0.0, \"group_size_formatted\": \"2,454\", \"tooltip_groups_name_size\": \"Caucasian (2,454)\", \"fdr_disparity_scaled\": 0.0, \"fdr_parity_result\": \"Reference\", \"tooltip_parity_test_explanation_fdr\": \"Reference group\", \"tooltip_disparity_explanation_fdr\": \"Reference group\", \"fdr_disparity_rank\": 0.0}, {\"attribute_name\": \"race\", \"attribute_value\": \"Hispanic\", \"group_size\": 637, \"total_entities\": 7214, \"ref_group_value\": \"Caucasian\", \"fpr\": 0.21481481481481482, \"fdr\": 0.45789473684210524, \"fpr_disparity\": 0.9158866602992677, \"fdr_disparity\": 1.1204644849947216, \"fpr_disparity_scaled\": -0.09183815350389324, \"fpr_parity_result\": \"Pass\", \"tooltip_parity_test_explanation_fpr\": \"Pass. Below fairness threshold of 1.25\", \"tooltip_disparity_explanation_fpr\": \"1.09 times smaller FPR than the reference group\", \"tooltip_group_size\": \"637 (8.83%)\", \"fpr_disparity_rank\": -1.0, \"group_size_formatted\": \"637\", \"tooltip_groups_name_size\": \"Hispanic (637)\", \"fdr_disparity_scaled\": 0.12046448499472162, \"fdr_parity_result\": \"Pass\", \"tooltip_parity_test_explanation_fdr\": \"Pass. Below fairness threshold of 1.25\", \"tooltip_disparity_explanation_fdr\": \"1.12 times larger FDR than the reference group\", \"fdr_disparity_rank\": 2.0}, {\"attribute_name\": \"race\", \"attribute_value\": \"Native American\", \"group_size\": 18, \"total_entities\": 7214, \"ref_group_value\": \"Caucasian\", \"fpr\": 0.375, \"fdr\": 0.25, \"fpr_disparity\": 1.5988538681948423, \"fdr_disparity\": 0.6117478510028653, \"fpr_disparity_scaled\": 0.5988538681948423, \"fpr_parity_result\": \"Fail\", \"tooltip_parity_test_explanation_fpr\": \"Fail. Above fairness threshold of 1.25\", \"tooltip_disparity_explanation_fpr\": \"1.60 times larger FPR than the reference group\", \"tooltip_group_size\": \"18 (0.25%)\", \"fpr_disparity_rank\": 1.0, \"group_size_formatted\": \"18\", \"tooltip_groups_name_size\": \"Native American (18)\", \"fdr_disparity_scaled\": -0.6346604215456675, \"fdr_parity_result\": \"Fail\", \"tooltip_parity_test_explanation_fdr\": \"Fail. Above fairness threshold of 1.25\", \"tooltip_disparity_explanation_fdr\": \"1.63 times smaller FDR than the reference group\", \"fdr_disparity_rank\": -2.0}, {\"attribute_name\": \"race\", \"attribute_value\": \"Other\", \"group_size\": 377, \"total_entities\": 7214, \"ref_group_value\": \"Caucasian\", \"fpr\": 0.14754098360655737, \"fdr\": 0.45569620253164556, \"fpr_disparity\": 0.6290572596176429, \"fdr_disparity\": 1.1150846904356027, \"fpr_disparity_scaled\": -0.5896804062126644, \"fpr_parity_result\": \"Fail\", \"tooltip_parity_test_explanation_fpr\": \"Fail. Above fairness threshold of 1.25\", \"tooltip_disparity_explanation_fpr\": \"1.59 times smaller FPR than the reference group\", \"tooltip_group_size\": \"377 (5.23%)\", \"fpr_disparity_rank\": -2.0, \"group_size_formatted\": \"377\", \"tooltip_groups_name_size\": \"Other (377)\", \"fdr_disparity_scaled\": 0.11508469043560265, \"fdr_parity_result\": \"Pass\", \"tooltip_parity_test_explanation_fdr\": \"Pass. Below fairness threshold of 1.25\", \"tooltip_disparity_explanation_fdr\": \"1.12 times larger FDR than the reference group\", \"fdr_disparity_rank\": 1.0}], \"data-acd34737adcea6c51451f724b851a6f1\": [{\"fdr_parity_result\": \"Fail\", \"attribute_name\": \"race\", \"total_entities\": 7214, \"group_size\": 50, \"tooltip_groups_name_size\": \"Asian (32), Native American (18)\", \"tooltip_group_size\": \"50 (0.69%)\"}, {\"fdr_parity_result\": \"Pass\", \"attribute_name\": \"race\", \"total_entities\": 7214, \"group_size\": 4710, \"tooltip_groups_name_size\": \"African-American (3,696), Hispanic (637), Other (377)\", \"tooltip_group_size\": \"4,710 (65.29%)\"}, {\"fdr_parity_result\": \"Reference\", \"attribute_name\": \"race\", \"total_entities\": 7214, \"group_size\": 2454, \"tooltip_groups_name_size\": \"Caucasian (2,454)\", \"tooltip_group_size\": \"2,454 (34.02%)\"}], \"data-9bcb10b75dc494b69ff88af9b90db2a8\": [{\"parity_result\": \"Pass\"}], \"data-7b47e5e2b92f49c104105f1e0fc09737\": [{\"fpr_parity_result\": \"Pass\", \"attribute_name\": \"sex\", \"total_entities\": 7214, \"group_size\": 1395, \"tooltip_groups_name_size\": \"Female (1,395)\", \"tooltip_group_size\": \"1,395 (19.34%)\"}, {\"fpr_parity_result\": \"Reference\", \"attribute_name\": \"sex\", \"total_entities\": 7214, \"group_size\": 5819, \"tooltip_groups_name_size\": \"Male (5,819)\", \"tooltip_group_size\": \"5,819 (80.66%)\"}], \"data-4d6c69c7055c82b5de8699d88d5cd1c8\": [{\"attribute_name\": \"sex\", \"attribute_value\": \"Female\", \"group_size\": 1395, \"total_entities\": 7214, \"ref_group_value\": \"Male\", \"fpr\": 0.3210702341137124, \"fdr\": 0.4873096446700508, \"fpr_disparity\": 0.9903433981817327, \"fdr_disparity\": 1.336424639205793, \"fpr_disparity_scaled\": -0.009750761035007383, \"fpr_parity_result\": \"Pass\", \"tooltip_parity_test_explanation_fpr\": \"Pass. Below fairness threshold of 1.25\", \"tooltip_disparity_explanation_fpr\": \"1.01 times smaller FPR than the reference group\", \"tooltip_group_size\": \"1,395 (19.34%)\", \"fpr_disparity_rank\": -1.0, \"group_size_formatted\": \"1,395\", \"tooltip_groups_name_size\": \"Female (1,395)\", \"fdr_disparity_scaled\": 0.336424639205793, \"fdr_parity_result\": \"Fail\", \"tooltip_parity_test_explanation_fdr\": \"Fail. Above fairness threshold of 1.25\", \"tooltip_disparity_explanation_fdr\": \"1.34 times larger FDR than the reference group\", \"fdr_disparity_rank\": 1.0}, {\"attribute_name\": \"sex\", \"attribute_value\": \"Male\", \"group_size\": 5819, \"total_entities\": 7214, \"ref_group_value\": \"Male\", \"fpr\": 0.3242009132420091, \"fdr\": 0.3646368305209098, \"fpr_disparity\": 1.0, \"fdr_disparity\": 1.0, \"fpr_disparity_scaled\": 0.0, \"fpr_parity_result\": \"Reference\", \"tooltip_parity_test_explanation_fpr\": \"Reference group\", \"tooltip_disparity_explanation_fpr\": \"Reference group\", \"tooltip_group_size\": \"5,819 (80.66%)\", \"fpr_disparity_rank\": 0.0, \"group_size_formatted\": \"5,819\", \"tooltip_groups_name_size\": \"Male (5,819)\", \"fdr_disparity_scaled\": 0.0, \"fdr_parity_result\": \"Reference\", \"tooltip_parity_test_explanation_fdr\": \"Reference group\", \"tooltip_disparity_explanation_fdr\": \"Reference group\", \"fdr_disparity_rank\": 0.0}], \"data-b249c1ad7737c88e7fb50967d82fe698\": [{\"fdr_parity_result\": \"Fail\", \"attribute_name\": \"sex\", \"total_entities\": 7214, \"group_size\": 1395, \"tooltip_groups_name_size\": \"Female (1,395)\", \"tooltip_group_size\": \"1,395 (19.34%)\"}, {\"fdr_parity_result\": \"Reference\", \"attribute_name\": \"sex\", \"total_entities\": 7214, \"group_size\": 5819, \"tooltip_groups_name_size\": \"Male (5,819)\", \"tooltip_group_size\": \"5,819 (80.66%)\"}], \"data-db2c2ffc5bd54e1478899b3091e0a734\": [{\"fpr_parity_result\": \"Fail\", \"attribute_name\": \"age_cat\", \"total_entities\": 7214, \"group_size\": 3105, \"tooltip_groups_name_size\": \"Greater than 45 (1,576), Less than 25 (1,529)\", \"tooltip_group_size\": \"3,105 (43.04%)\"}, {\"fpr_parity_result\": \"Reference\", \"attribute_name\": \"age_cat\", \"total_entities\": 7214, \"group_size\": 4109, \"tooltip_groups_name_size\": \"25 - 45 (4,109)\", \"tooltip_group_size\": \"4,109 (56.96%)\"}], \"data-2d488c32856b997db6d857c805ac5a0e\": [{\"attribute_name\": \"age_cat\", \"attribute_value\": \"25 - 45\", \"group_size\": 4109, \"total_entities\": 7214, \"ref_group_value\": \"25 - 45\", \"fpr\": 0.33378378378378376, \"fdr\": 0.38513513513513514, \"fpr_disparity\": 1.0, \"fdr_disparity\": 1.0, \"fpr_disparity_scaled\": 0.0, \"fpr_parity_result\": \"Reference\", \"tooltip_parity_test_explanation_fpr\": \"Reference group\", \"tooltip_disparity_explanation_fpr\": \"Reference group\", \"tooltip_group_size\": \"4,109 (56.96%)\", \"fpr_disparity_rank\": 0.0, \"group_size_formatted\": \"4,109\", \"tooltip_groups_name_size\": \"25 - 45 (4,109)\", \"fdr_disparity_scaled\": 0.0, \"fdr_parity_result\": \"Reference\", \"tooltip_parity_test_explanation_fdr\": \"Reference group\", \"tooltip_disparity_explanation_fdr\": \"Reference group\", \"fdr_disparity_rank\": 0.0}, {\"attribute_name\": \"age_cat\", \"attribute_value\": \"Greater than 45\", \"group_size\": 1576, \"total_entities\": 7214, \"ref_group_value\": \"25 - 45\", \"fpr\": 0.1679035250463822, \"fdr\": 0.4593908629441624, \"fpr_disparity\": 0.5030308037826835, \"fdr_disparity\": 1.1928043458901059, \"fpr_disparity_scaled\": -0.9879498282813199, \"fpr_parity_result\": \"Fail\", \"tooltip_parity_test_explanation_fpr\": \"Fail. Above fairness threshold of 1.25\", \"tooltip_disparity_explanation_fpr\": \"1.99 times smaller FPR than the reference group\", \"tooltip_group_size\": \"1,576 (21.85%)\", \"fpr_disparity_rank\": -1.0, \"group_size_formatted\": \"1,576\", \"tooltip_groups_name_size\": \"Greater than 45 (1,576)\", \"fdr_disparity_scaled\": 0.19280434589010587, \"fdr_parity_result\": \"Pass\", \"tooltip_parity_test_explanation_fdr\": \"Pass. Below fairness threshold of 1.25\", \"tooltip_disparity_explanation_fdr\": \"1.19 times larger FDR than the reference group\", \"fdr_disparity_rank\": 1.0}, {\"attribute_name\": \"age_cat\", \"attribute_value\": \"Less than 25\", \"group_size\": 1529, \"total_entities\": 7214, \"ref_group_value\": \"25 - 45\", \"fpr\": 0.5413533834586466, \"fdr\": 0.36036036036036034, \"fpr_disparity\": 1.6218684362728684, \"fdr_disparity\": 0.935672514619883, \"fpr_disparity_scaled\": 0.6218684362728684, \"fpr_parity_result\": \"Fail\", \"tooltip_parity_test_explanation_fpr\": \"Fail. Above fairness threshold of 1.25\", \"tooltip_disparity_explanation_fpr\": \"1.62 times larger FPR than the reference group\", \"tooltip_group_size\": \"1,529 (21.19%)\", \"fpr_disparity_rank\": 1.0, \"group_size_formatted\": \"1,529\", \"tooltip_groups_name_size\": \"Less than 25 (1,529)\", \"fdr_disparity_scaled\": -0.06875000000000009, \"fdr_parity_result\": \"Pass\", \"tooltip_parity_test_explanation_fdr\": \"Pass. Below fairness threshold of 1.25\", \"tooltip_disparity_explanation_fdr\": \"1.07 times smaller FDR than the reference group\", \"fdr_disparity_rank\": -1.0}], \"data-563cecf5180210110a42852258fdaa3d\": [{\"fdr_parity_result\": \"Pass\", \"attribute_name\": \"age_cat\", \"total_entities\": 7214, \"group_size\": 3105, \"tooltip_groups_name_size\": \"Greater than 45 (1,576), Less than 25 (1,529)\", \"tooltip_group_size\": \"3,105 (43.04%)\"}, {\"fdr_parity_result\": \"Reference\", \"attribute_name\": \"age_cat\", \"total_entities\": 7214, \"group_size\": 4109, \"tooltip_groups_name_size\": \"25 - 45 (4,109)\", \"tooltip_group_size\": \"4,109 (56.96%)\"}]}}, {\"mode\": \"vega-lite\"});\n",
       "</script>"
      ],
      "text/plain": [
       "alt.VConcatChart(...)"
      ]
     },
     "execution_count": 14,
     "metadata": {},
     "output_type": "execute_result"
    }
   ],
   "source": [
    "audit.summary_plot(metrics=metrics, fairness_threshold=disparity_tolerance)"
   ]
  },
  {
   "cell_type": "code",
   "execution_count": 15,
   "metadata": {},
   "outputs": [
    {
     "data": {
      "text/html": [
       "\n",
       "<style>\n",
       "  #altair-viz-429e6c2a4f0b4627ac287886ff38af51.vega-embed {\n",
       "    width: 100%;\n",
       "    display: flex;\n",
       "  }\n",
       "\n",
       "  #altair-viz-429e6c2a4f0b4627ac287886ff38af51.vega-embed details,\n",
       "  #altair-viz-429e6c2a4f0b4627ac287886ff38af51.vega-embed details summary {\n",
       "    position: relative;\n",
       "  }\n",
       "</style>\n",
       "<div id=\"altair-viz-429e6c2a4f0b4627ac287886ff38af51\"></div>\n",
       "<script type=\"text/javascript\">\n",
       "  var VEGA_DEBUG = (typeof VEGA_DEBUG == \"undefined\") ? {} : VEGA_DEBUG;\n",
       "  (function(spec, embedOpt){\n",
       "    let outputDiv = document.currentScript.previousElementSibling;\n",
       "    if (outputDiv.id !== \"altair-viz-429e6c2a4f0b4627ac287886ff38af51\") {\n",
       "      outputDiv = document.getElementById(\"altair-viz-429e6c2a4f0b4627ac287886ff38af51\");\n",
       "    }\n",
       "    const paths = {\n",
       "      \"vega\": \"https://cdn.jsdelivr.net/npm/vega@5?noext\",\n",
       "      \"vega-lib\": \"https://cdn.jsdelivr.net/npm/vega-lib?noext\",\n",
       "      \"vega-lite\": \"https://cdn.jsdelivr.net/npm/vega-lite@5.20.1?noext\",\n",
       "      \"vega-embed\": \"https://cdn.jsdelivr.net/npm/vega-embed@6?noext\",\n",
       "    };\n",
       "\n",
       "    function maybeLoadScript(lib, version) {\n",
       "      var key = `${lib.replace(\"-\", \"\")}_version`;\n",
       "      return (VEGA_DEBUG[key] == version) ?\n",
       "        Promise.resolve(paths[lib]) :\n",
       "        new Promise(function(resolve, reject) {\n",
       "          var s = document.createElement('script');\n",
       "          document.getElementsByTagName(\"head\")[0].appendChild(s);\n",
       "          s.async = true;\n",
       "          s.onload = () => {\n",
       "            VEGA_DEBUG[key] = version;\n",
       "            return resolve(paths[lib]);\n",
       "          };\n",
       "          s.onerror = () => reject(`Error loading script: ${paths[lib]}`);\n",
       "          s.src = paths[lib];\n",
       "        });\n",
       "    }\n",
       "\n",
       "    function showError(err) {\n",
       "      outputDiv.innerHTML = `<div class=\"error\" style=\"color:red;\">${err}</div>`;\n",
       "      throw err;\n",
       "    }\n",
       "\n",
       "    function displayChart(vegaEmbed) {\n",
       "      vegaEmbed(outputDiv, spec, embedOpt)\n",
       "        .catch(err => showError(`Javascript Error: ${err.message}<br>This usually means there's a typo in your chart specification. See the javascript console for the full traceback.`));\n",
       "    }\n",
       "\n",
       "    if(typeof define === \"function\" && define.amd) {\n",
       "      requirejs.config({paths});\n",
       "      require([\"vega-embed\"], displayChart, err => showError(`Error loading script: ${err.message}`));\n",
       "    } else {\n",
       "      maybeLoadScript(\"vega\", \"5\")\n",
       "        .then(() => maybeLoadScript(\"vega-lite\", \"5.20.1\"))\n",
       "        .then(() => maybeLoadScript(\"vega-embed\", \"6\"))\n",
       "        .catch(showError)\n",
       "        .then(() => displayChart(vegaEmbed));\n",
       "    }\n",
       "  })({\"config\": {\"view\": {\"continuousWidth\": 300, \"continuousHeight\": 300, \"strokeWidth\": 0}, \"axisLeft\": {\"labelColor\": \"rgb(102, 111, 137)\", \"labelFont\": \"Roboto, Arial, sans-serif\", \"labelFontSize\": 16}, \"title\": {\"anchor\": \"start\", \"color\": \"rgb(25, 39, 78)\", \"font\": \"Roboto, Arial, sans-serif\", \"fontSize\": 20, \"fontWeight\": \"bold\", \"offset\": 20}}, \"layer\": [{\"data\": {\"name\": \"data-288ac3c2b257d3f893d6db4fd2edf467\"}, \"mark\": {\"type\": \"rule\", \"stroke\": \"rgb(102, 111, 137)\", \"strokeWidth\": 1.25, \"tooltip\": null}, \"encoding\": {\"x\": {\"field\": \"x\", \"scale\": {\"domain\": [-2, 2], \"range\": [40.0, 760.0]}, \"type\": \"quantitative\"}, \"x2\": {\"field\": \"x2\"}, \"y\": {\"axis\": {\"domain\": false, \"labelAngle\": 0, \"labelPadding\": -30, \"orient\": \"left\", \"ticks\": false, \"title\": null}, \"field\": \"metric\", \"scale\": {\"domain\": [\"PREDICTIVE EQUALITY\", \"FDR\"], \"range\": [40.0, 360.0]}, \"type\": \"nominal\"}}}, {\"data\": {\"name\": \"data-de84bc8c822dac0bd3b12b0342548471\"}, \"mark\": {\"type\": \"rule\", \"stroke\": \"rgb(102, 111, 137)\", \"strokeDash\": [5, 5], \"strokeWidth\": 1}, \"encoding\": {\"tooltip\": {\"value\": \"Caucasian [REF]\"}, \"x\": {\"value\": 400.0}, \"y\": {\"value\": 33.333333333333336}, \"y2\": {\"value\": 366.66666666666663}}}, {\"data\": {\"name\": \"data-5301160e2632d994a912fb62c574b38d\"}, \"mark\": {\"type\": \"text\", \"align\": \"center\", \"color\": \"rgb(102, 111, 137)\", \"font\": \"Roboto, Arial, sans-serif\", \"fontSize\": 12, \"fontWeight\": \"normal\", \"tooltip\": null}, \"encoding\": {\"text\": {\"field\": \"label\", \"type\": \"nominal\"}, \"x\": {\"field\": \"value\", \"scale\": {\"domain\": [-2, 2], \"range\": [40.0, 760.0]}, \"type\": \"quantitative\"}, \"y\": {\"value\": 28.0}}}, {\"layer\": [{\"mark\": {\"type\": \"text\", \"align\": \"left\", \"fill\": \"rgb(102, 111, 137)\", \"font\": \"Roboto, Arial, sans-serif\", \"fontSize\": 12, \"fontWeight\": \"normal\", \"tooltip\": null}, \"encoding\": {\"text\": {\"value\": \"Times Smaller\"}, \"x\": {\"value\": 40.0}, \"y\": {\"value\": 12.0}}}, {\"mark\": {\"type\": \"text\", \"align\": \"right\", \"fill\": \"rgb(102, 111, 137)\", \"font\": \"Roboto, Arial, sans-serif\", \"fontSize\": 12, \"fontWeight\": \"normal\", \"tooltip\": null}, \"encoding\": {\"text\": {\"value\": \"Times Larger\"}, \"x\": {\"value\": 760.0}, \"y\": {\"value\": 12.0}}}, {\"mark\": {\"type\": \"text\", \"align\": \"center\", \"fill\": \"rgb(102, 111, 137)\", \"font\": \"Roboto, Arial, sans-serif\", \"fontSize\": 12, \"fontWeight\": \"normal\", \"tooltip\": null}, \"encoding\": {\"text\": {\"value\": \"Equal\"}, \"x\": {\"value\": 400.0}, \"y\": {\"value\": 12.0}}}], \"data\": {\"name\": \"data-de84bc8c822dac0bd3b12b0342548471\"}}, {\"layer\": [{\"mark\": {\"type\": \"rule\", \"opacity\": 0.8, \"stroke\": \"rgb(211, 47, 47)\", \"strokeWidth\": 1.25, \"tooltip\": null}, \"encoding\": {\"x\": {\"field\": \"min\", \"scale\": {\"domain\": [-2, 2], \"range\": [40.0, 760.0]}, \"type\": \"quantitative\"}, \"y\": {\"value\": 40.0}, \"y2\": {\"value\": 360.0}}}, {\"mark\": {\"type\": \"rule\", \"opacity\": 0.8, \"stroke\": \"rgb(211, 47, 47)\", \"strokeWidth\": 1.25, \"tooltip\": null}, \"encoding\": {\"x\": {\"field\": \"max\", \"scale\": {\"domain\": [-2, 2], \"range\": [40.0, 760.0]}, \"type\": \"quantitative\"}, \"y\": {\"value\": 40.0}, \"y2\": {\"value\": 360.0}}}, {\"layer\": [{\"mark\": {\"type\": \"rect\", \"fill\": \"rgb(211, 47, 47)\", \"opacity\": 0.1, \"tooltip\": null}, \"encoding\": {\"x\": {\"field\": \"min\", \"scale\": {\"domain\": [-2, 2], \"range\": [40.0, 760.0]}, \"type\": \"quantitative\"}, \"x2\": {\"field\": \"lower_end\"}, \"y\": {\"value\": 40.0}, \"y2\": {\"value\": 360.0}}}, {\"mark\": {\"type\": \"rect\", \"fill\": \"rgb(211, 47, 47)\", \"opacity\": 0.1, \"tooltip\": null}, \"encoding\": {\"x\": {\"field\": \"max\", \"scale\": {\"domain\": [-2, 2], \"range\": [40.0, 760.0]}, \"type\": \"quantitative\"}, \"x2\": {\"field\": \"upper_end\"}, \"y\": {\"value\": 40.0}, \"y2\": {\"value\": 360.0}}}]}, {\"layer\": [{\"mark\": {\"type\": \"text\", \"align\": \"left\", \"baseline\": \"top\", \"fill\": \"rgb(211, 47, 47)\", \"font\": \"Roboto, Arial, sans-serif\", \"fontSize\": 12, \"fontWeight\": \"normal\", \"tooltip\": null}, \"encoding\": {\"text\": {\"value\": \"The metric value for any group should not be 1.25 (or more) times smaller or larger than that of the reference group Caucasian.\"}, \"x\": {\"value\": 0}, \"y\": {\"value\": 373.3333333333333}}}], \"data\": {\"name\": \"data-de84bc8c822dac0bd3b12b0342548471\"}}], \"data\": {\"name\": \"data-f6c9b01b2d2ca106ef2a532bc000e3e1\"}}, {\"layer\": [{\"data\": {\"name\": \"empty\"}, \"mark\": {\"type\": \"circle\"}}, {\"data\": {\"name\": \"data-6f78e3c2df91bcbd9c868a1c37493d02\"}, \"mark\": {\"type\": \"circle\", \"cursor\": \"pointer\", \"opacity\": 0.2}, \"encoding\": {\"color\": {\"condition\": {\"param\": \"param_1\", \"empty\": true, \"field\": \"attribute_value\", \"legend\": null, \"scale\": {\"domain\": [\"Caucasian\", \"African-American\", \"Asian\", \"Hispanic\", \"Native American\", \"Other\"], \"range\": [\"rgb(102, 111, 137)\", \"rgb(76, 136, 238)\", \"rgb(254, 97, 0)\", \"rgb(220, 38, 127)\", \"rgb(255, 176, 0)\", \"rgb(150, 95, 230)\"]}, \"type\": \"nominal\"}, \"value\": \"rgb(225, 226, 231)\"}, \"size\": {\"field\": \"group_size\", \"legend\": null, \"scale\": {\"domain\": [0, 4435.2], \"range\": [0, 5026.548245743669]}, \"type\": \"quantitative\"}, \"tooltip\": [{\"field\": \"attribute_value\", \"title\": \"Group\", \"type\": \"nominal\"}, {\"field\": \"tooltip_group_size\", \"title\": \"Group Size\", \"type\": \"nominal\"}, {\"field\": \"tooltip_disparity_explanation_fpr\", \"title\": \"Disparity\", \"type\": \"nominal\"}, {\"field\": \"fpr\", \"format\": \".2f\", \"title\": \"PREDICTIVE EQUALITY\", \"type\": \"quantitative\"}], \"x\": {\"axis\": {\"domain\": false, \"gridColor\": \"rgb(225, 226, 231)\", \"labels\": false, \"ticks\": false, \"title\": null, \"values\": [1, 2, -2, -1]}, \"field\": \"fpr_disparity_scaled\", \"scale\": {\"domain\": [-2, 2], \"range\": [40.0, 760.0]}, \"type\": \"quantitative\"}, \"y\": {\"axis\": {\"domain\": false, \"grid\": false, \"labels\": false, \"ticks\": false, \"title\": null}, \"field\": \"metric_variable\", \"scale\": {\"domain\": [\"PREDICTIVE EQUALITY\", \"FDR\"], \"range\": [40.0, 360.0]}, \"type\": \"nominal\"}}, \"name\": \"view_2\", \"transform\": [{\"calculate\": \"'PREDICTIVE EQUALITY'\", \"as\": \"metric_variable\"}]}, {\"data\": {\"name\": \"data-6f78e3c2df91bcbd9c868a1c37493d02\"}, \"mark\": {\"type\": \"circle\", \"cursor\": \"pointer\", \"opacity\": 0.2}, \"encoding\": {\"color\": {\"condition\": {\"param\": \"param_1\", \"empty\": true, \"field\": \"attribute_value\", \"legend\": null, \"scale\": {\"domain\": [\"Caucasian\", \"African-American\", \"Asian\", \"Hispanic\", \"Native American\", \"Other\"], \"range\": [\"rgb(102, 111, 137)\", \"rgb(76, 136, 238)\", \"rgb(254, 97, 0)\", \"rgb(220, 38, 127)\", \"rgb(255, 176, 0)\", \"rgb(150, 95, 230)\"]}, \"type\": \"nominal\"}, \"value\": \"rgb(225, 226, 231)\"}, \"size\": {\"field\": \"group_size\", \"legend\": null, \"scale\": {\"domain\": [0, 4435.2], \"range\": [0, 5026.548245743669]}, \"type\": \"quantitative\"}, \"tooltip\": [{\"field\": \"attribute_value\", \"title\": \"Group\", \"type\": \"nominal\"}, {\"field\": \"tooltip_group_size\", \"title\": \"Group Size\", \"type\": \"nominal\"}, {\"field\": \"tooltip_disparity_explanation_fdr\", \"title\": \"Disparity\", \"type\": \"nominal\"}, {\"field\": \"fdr\", \"format\": \".2f\", \"title\": \"FDR\", \"type\": \"quantitative\"}], \"x\": {\"axis\": {\"domain\": false, \"gridColor\": \"rgb(225, 226, 231)\", \"labels\": false, \"ticks\": false, \"title\": null, \"values\": [1, 2, -2, -1]}, \"field\": \"fdr_disparity_scaled\", \"scale\": {\"domain\": [-2, 2], \"range\": [40.0, 760.0]}, \"type\": \"quantitative\"}, \"y\": {\"axis\": {\"domain\": false, \"grid\": false, \"labels\": false, \"ticks\": false, \"title\": null}, \"field\": \"metric_variable\", \"scale\": {\"domain\": [\"PREDICTIVE EQUALITY\", \"FDR\"], \"range\": [40.0, 360.0]}, \"type\": \"nominal\"}}, \"name\": \"view_4\", \"transform\": [{\"calculate\": \"'FDR'\", \"as\": \"metric_variable\"}]}, {\"layer\": [{\"data\": {\"name\": \"empty\"}, \"mark\": {\"type\": \"point\"}}, {\"data\": {\"name\": \"data-6f78e3c2df91bcbd9c868a1c37493d02\"}, \"mark\": {\"type\": \"point\", \"cursor\": \"pointer\", \"filled\": true, \"size\": 60}, \"encoding\": {\"color\": {\"condition\": {\"param\": \"param_1\", \"empty\": true, \"field\": \"attribute_value\", \"legend\": null, \"scale\": {\"domain\": [\"Caucasian\", \"African-American\", \"Asian\", \"Hispanic\", \"Native American\", \"Other\"], \"range\": [\"rgb(102, 111, 137)\", \"rgb(76, 136, 238)\", \"rgb(254, 97, 0)\", \"rgb(220, 38, 127)\", \"rgb(255, 176, 0)\", \"rgb(150, 95, 230)\"]}, \"type\": \"nominal\"}, \"value\": \"rgb(225, 226, 231)\"}, \"shape\": {\"field\": \"attribute_value\", \"legend\": null, \"scale\": {\"domain\": [\"Caucasian\", \"African-American\", \"Asian\", \"Hispanic\", \"Native American\", \"Other\"], \"range\": [\"cross\", \"circle\", \"circle\", \"circle\", \"circle\", \"circle\"]}, \"type\": \"nominal\"}, \"tooltip\": [{\"field\": \"attribute_value\", \"title\": \"Group\", \"type\": \"nominal\"}, {\"field\": \"tooltip_group_size\", \"title\": \"Group Size\", \"type\": \"nominal\"}, {\"field\": \"tooltip_disparity_explanation_fpr\", \"title\": \"Disparity\", \"type\": \"nominal\"}, {\"field\": \"fpr\", \"format\": \".2f\", \"title\": \"PREDICTIVE EQUALITY\", \"type\": \"quantitative\"}], \"x\": {\"axis\": {\"domain\": false, \"gridColor\": \"rgb(225, 226, 231)\", \"labels\": false, \"ticks\": false, \"title\": null, \"values\": [1, 2, -2, -1]}, \"field\": \"fpr_disparity_scaled\", \"scale\": {\"domain\": [-2, 2], \"range\": [40.0, 760.0]}, \"type\": \"quantitative\"}, \"y\": {\"axis\": {\"domain\": false, \"grid\": false, \"labels\": false, \"ticks\": false, \"title\": null}, \"field\": \"metric_variable\", \"scale\": {\"domain\": [\"PREDICTIVE EQUALITY\", \"FDR\"], \"range\": [40.0, 360.0]}, \"type\": \"nominal\"}}, \"name\": \"view_1\", \"transform\": [{\"calculate\": \"'PREDICTIVE EQUALITY'\", \"as\": \"metric_variable\"}]}, {\"data\": {\"name\": \"data-6f78e3c2df91bcbd9c868a1c37493d02\"}, \"mark\": {\"type\": \"point\", \"cursor\": \"pointer\", \"filled\": true, \"size\": 60}, \"encoding\": {\"color\": {\"condition\": {\"param\": \"param_1\", \"empty\": true, \"field\": \"attribute_value\", \"legend\": null, \"scale\": {\"domain\": [\"Caucasian\", \"African-American\", \"Asian\", \"Hispanic\", \"Native American\", \"Other\"], \"range\": [\"rgb(102, 111, 137)\", \"rgb(76, 136, 238)\", \"rgb(254, 97, 0)\", \"rgb(220, 38, 127)\", \"rgb(255, 176, 0)\", \"rgb(150, 95, 230)\"]}, \"type\": \"nominal\"}, \"value\": \"rgb(225, 226, 231)\"}, \"shape\": {\"field\": \"attribute_value\", \"legend\": null, \"scale\": {\"domain\": [\"Caucasian\", \"African-American\", \"Asian\", \"Hispanic\", \"Native American\", \"Other\"], \"range\": [\"cross\", \"circle\", \"circle\", \"circle\", \"circle\", \"circle\"]}, \"type\": \"nominal\"}, \"tooltip\": [{\"field\": \"attribute_value\", \"title\": \"Group\", \"type\": \"nominal\"}, {\"field\": \"tooltip_group_size\", \"title\": \"Group Size\", \"type\": \"nominal\"}, {\"field\": \"tooltip_disparity_explanation_fdr\", \"title\": \"Disparity\", \"type\": \"nominal\"}, {\"field\": \"fdr\", \"format\": \".2f\", \"title\": \"FDR\", \"type\": \"quantitative\"}], \"x\": {\"axis\": {\"domain\": false, \"gridColor\": \"rgb(225, 226, 231)\", \"labels\": false, \"ticks\": false, \"title\": null, \"values\": [1, 2, -2, -1]}, \"field\": \"fdr_disparity_scaled\", \"scale\": {\"domain\": [-2, 2], \"range\": [40.0, 760.0]}, \"type\": \"quantitative\"}, \"y\": {\"axis\": {\"domain\": false, \"grid\": false, \"labels\": false, \"ticks\": false, \"title\": null}, \"field\": \"metric_variable\", \"scale\": {\"domain\": [\"PREDICTIVE EQUALITY\", \"FDR\"], \"range\": [40.0, 360.0]}, \"type\": \"nominal\"}}, \"name\": \"view_3\", \"transform\": [{\"calculate\": \"'FDR'\", \"as\": \"metric_variable\"}]}]}]}, {\"layer\": [{\"mark\": {\"type\": \"point\", \"cursor\": \"pointer\", \"filled\": true, \"opacity\": 1, \"size\": 40}, \"encoding\": {\"color\": {\"condition\": {\"param\": \"param_1\", \"empty\": true, \"field\": \"attribute_value\", \"legend\": null, \"scale\": {\"domain\": [\"Caucasian\", \"African-American\", \"Asian\", \"Hispanic\", \"Native American\", \"Other\"], \"range\": [\"rgb(102, 111, 137)\", \"rgb(76, 136, 238)\", \"rgb(254, 97, 0)\", \"rgb(220, 38, 127)\", \"rgb(255, 176, 0)\", \"rgb(150, 95, 230)\"]}, \"type\": \"nominal\"}, \"value\": \"rgb(225, 226, 231)\"}, \"shape\": {\"field\": \"attribute_value\", \"legend\": null, \"scale\": {\"domain\": [\"Caucasian\", \"African-American\", \"Asian\", \"Hispanic\", \"Native American\", \"Other\"], \"range\": [\"cross\", \"circle\", \"circle\", \"circle\", \"circle\", \"circle\"]}, \"type\": \"nominal\"}, \"x\": {\"value\": 807.5682482323056}, \"y\": {\"axis\": {\"domain\": false, \"grid\": false, \"labels\": false, \"ticks\": false, \"title\": null}, \"field\": \"attribute_value\", \"scale\": {\"domain\": [\"Caucasian\", \"African-American\", \"Asian\", \"Hispanic\", \"Native American\", \"Other\"], \"range\": [54, 150]}, \"type\": \"nominal\"}}, \"name\": \"view_5\"}, {\"mark\": {\"type\": \"text\", \"align\": \"left\", \"baseline\": \"middle\", \"cursor\": \"pointer\", \"font\": \"Roboto, Arial, sans-serif\", \"fontSize\": 12, \"fontWeight\": \"normal\"}, \"encoding\": {\"color\": {\"condition\": {\"param\": \"param_1\", \"empty\": true, \"field\": \"attribute_value\", \"legend\": null, \"scale\": {\"domain\": [\"Caucasian\", \"African-American\", \"Asian\", \"Hispanic\", \"Native American\", \"Other\"], \"range\": [\"rgb(102, 111, 137)\", \"rgb(76, 136, 238)\", \"rgb(254, 97, 0)\", \"rgb(220, 38, 127)\", \"rgb(255, 176, 0)\", \"rgb(150, 95, 230)\"]}, \"type\": \"nominal\"}, \"value\": \"rgb(225, 226, 231)\"}, \"text\": {\"field\": \"label\", \"type\": \"nominal\"}, \"x\": {\"value\": 818.1364964646111}, \"y\": {\"axis\": {\"domain\": false, \"grid\": false, \"labels\": false, \"ticks\": false, \"title\": null}, \"field\": \"attribute_value\", \"scale\": {\"domain\": [\"Caucasian\", \"African-American\", \"Asian\", \"Hispanic\", \"Native American\", \"Other\"], \"range\": [54, 150]}, \"type\": \"nominal\"}}, \"name\": \"view_6\"}, {\"data\": {\"name\": \"data-de84bc8c822dac0bd3b12b0342548471\"}, \"mark\": {\"type\": \"text\", \"align\": \"left\", \"baseline\": \"top\", \"color\": \"rgb(25, 39, 78)\", \"font\": \"Roboto, Arial, sans-serif\", \"fontSize\": 12, \"fontWeight\": \"bold\"}, \"encoding\": {\"text\": {\"value\": \"(click to highlight)\"}, \"x\": {\"value\": 800}, \"y\": {\"value\": 34}}}, {\"data\": {\"name\": \"data-de84bc8c822dac0bd3b12b0342548471\"}, \"mark\": {\"type\": \"text\", \"align\": \"left\", \"baseline\": \"top\", \"color\": \"rgb(25, 39, 78)\", \"font\": \"Roboto, Arial, sans-serif\", \"fontSize\": 12, \"fontWeight\": \"bold\"}, \"encoding\": {\"text\": {\"value\": \"Groups\"}, \"x\": {\"value\": 800}, \"y\": {\"value\": 20}}}], \"data\": {\"name\": \"data-3e27e4e87f74af36c3e29f09d11184ba\"}}], \"height\": 400, \"padding\": {\"top\": 15, \"bottom\": -1.0, \"left\": 15, \"right\": 15}, \"params\": [{\"name\": \"param_3\", \"select\": {\"type\": \"point\", \"fields\": [\"attribute_value\"]}, \"views\": [\"view_2\"]}, {\"name\": \"param_5\", \"select\": {\"type\": \"point\", \"fields\": [\"attribute_value\"]}, \"views\": [\"view_4\"]}, {\"name\": \"param_2\", \"select\": {\"type\": \"point\", \"fields\": [\"attribute_value\"]}, \"views\": [\"view_1\"]}, {\"name\": \"param_4\", \"select\": {\"type\": \"point\", \"fields\": [\"attribute_value\"]}, \"views\": [\"view_3\"]}, {\"name\": \"param_1\", \"select\": {\"type\": \"point\", \"fields\": [\"attribute_value\"]}, \"views\": [\"view_5\"]}, {\"name\": \"param_6\", \"select\": {\"type\": \"point\", \"fields\": [\"attribute_value\"]}, \"views\": [\"view_6\"]}], \"resolve\": {\"scale\": {\"size\": \"independent\", \"y\": \"independent\"}}, \"title\": \"Disparities on Race\", \"usermeta\": {\"embedOptions\": {\"scaleFactor\": 5, \"downloadFileName\": \"disparity_chart\"}}, \"width\": 800, \"$schema\": \"https://vega.github.io/schema/vega-lite/v5.20.1.json\", \"datasets\": {\"data-288ac3c2b257d3f893d6db4fd2edf467\": [{\"metric\": \"PREDICTIVE EQUALITY\", \"x\": -2, \"x2\": 2}, {\"metric\": \"FDR\", \"x\": -2, \"x2\": 2}], \"data-de84bc8c822dac0bd3b12b0342548471\": [{\"a\": 1, \"b\": 0}, {\"a\": 1, \"b\": 0}], \"data-5301160e2632d994a912fb62c574b38d\": [{\"value\": 1, \"label\": 2}, {\"value\": 2, \"label\": 3}, {\"value\": -2, \"label\": 3}, {\"value\": -1, \"label\": 2}, {\"value\": 0, \"label\": \"=\"}], \"data-f6c9b01b2d2ca106ef2a532bc000e3e1\": [{\"min\": -0.25, \"max\": 0.25, \"lower_end\": -2, \"upper_end\": 2}], \"empty\": [{}], \"data-6f78e3c2df91bcbd9c868a1c37493d02\": [{\"attribute_name\": \"race\", \"attribute_value\": \"African-American\", \"group_size\": 3696, \"total_entities\": 7214, \"fpr\": 0.44846796657381616, \"fdr\": 0.3702851885924563, \"fpr_disparity\": 1.9120926483147231, \"fdr_disparity\": 0.9060846735185033, \"fpr_disparity_scaled\": 0.9120926483147231, \"fdr_disparity_scaled\": -0.10364961380132964, \"tooltip_group_size\": \"3,696 (51.23%)\", \"tooltip_disparity_explanation_fpr\": \"1.91 times larger FPR than the reference group\", \"tooltip_disparity_explanation_fdr\": \"1.10 times smaller FDR than the reference group\"}, {\"attribute_name\": \"race\", \"attribute_value\": \"Asian\", \"group_size\": 32, \"total_entities\": 7214, \"fpr\": 0.08695652173913043, \"fdr\": 0.25, \"fpr_disparity\": 0.37074872305967355, \"fdr_disparity\": 0.6117478510028653, \"fpr_disparity_scaled\": -1.6972446236559144, \"fdr_disparity_scaled\": -0.6346604215456675, \"tooltip_group_size\": \"32 (0.44%)\", \"tooltip_disparity_explanation_fpr\": \"2.70 times smaller FPR than the reference group\", \"tooltip_disparity_explanation_fdr\": \"1.63 times smaller FDR than the reference group\"}, {\"attribute_name\": \"race\", \"attribute_value\": \"Caucasian\", \"group_size\": 2454, \"total_entities\": 7214, \"fpr\": 0.23454301075268819, \"fdr\": 0.40866510538641687, \"fpr_disparity\": 1.0, \"fdr_disparity\": 1.0, \"fpr_disparity_scaled\": 0.0, \"fdr_disparity_scaled\": 0.0, \"tooltip_group_size\": \"2,454 (34.02%)\", \"tooltip_disparity_explanation_fpr\": \"Reference group\", \"tooltip_disparity_explanation_fdr\": \"Reference group\"}, {\"attribute_name\": \"race\", \"attribute_value\": \"Hispanic\", \"group_size\": 637, \"total_entities\": 7214, \"fpr\": 0.21481481481481482, \"fdr\": 0.45789473684210524, \"fpr_disparity\": 0.9158866602992677, \"fdr_disparity\": 1.1204644849947216, \"fpr_disparity_scaled\": -0.09183815350389324, \"fdr_disparity_scaled\": 0.12046448499472162, \"tooltip_group_size\": \"637 (8.83%)\", \"tooltip_disparity_explanation_fpr\": \"1.09 times smaller FPR than the reference group\", \"tooltip_disparity_explanation_fdr\": \"1.12 times larger FDR than the reference group\"}, {\"attribute_name\": \"race\", \"attribute_value\": \"Native American\", \"group_size\": 18, \"total_entities\": 7214, \"fpr\": 0.375, \"fdr\": 0.25, \"fpr_disparity\": 1.5988538681948423, \"fdr_disparity\": 0.6117478510028653, \"fpr_disparity_scaled\": 0.5988538681948423, \"fdr_disparity_scaled\": -0.6346604215456675, \"tooltip_group_size\": \"18 (0.25%)\", \"tooltip_disparity_explanation_fpr\": \"1.60 times larger FPR than the reference group\", \"tooltip_disparity_explanation_fdr\": \"1.63 times smaller FDR than the reference group\"}, {\"attribute_name\": \"race\", \"attribute_value\": \"Other\", \"group_size\": 377, \"total_entities\": 7214, \"fpr\": 0.14754098360655737, \"fdr\": 0.45569620253164556, \"fpr_disparity\": 0.6290572596176429, \"fdr_disparity\": 1.1150846904356027, \"fpr_disparity_scaled\": -0.5896804062126644, \"fdr_disparity_scaled\": 0.11508469043560265, \"tooltip_group_size\": \"377 (5.23%)\", \"tooltip_disparity_explanation_fpr\": \"1.59 times smaller FPR than the reference group\", \"tooltip_disparity_explanation_fdr\": \"1.12 times larger FDR than the reference group\"}], \"data-3e27e4e87f74af36c3e29f09d11184ba\": [{\"attribute_value\": \"Caucasian\", \"label\": \"Caucasian [REF]\"}, {\"attribute_value\": \"African-American\", \"label\": \"African-American\"}, {\"attribute_value\": \"Asian\", \"label\": \"Asian\"}, {\"attribute_value\": \"Hispanic\", \"label\": \"Hispanic\"}, {\"attribute_value\": \"Native American\", \"label\": \"Native American\"}, {\"attribute_value\": \"Other\", \"label\": \"Other\"}]}}, {\"mode\": \"vega-lite\"});\n",
       "</script>"
      ],
      "text/plain": [
       "alt.LayerChart(...)"
      ]
     },
     "execution_count": 15,
     "metadata": {},
     "output_type": "execute_result"
    }
   ],
   "source": [
    "audit.disparity_plot(metrics=metrics, attribute='race', fairness_threshold=disparity_tolerance)"
   ]
  },
  {
   "cell_type": "code",
   "execution_count": 16,
   "metadata": {},
   "outputs": [
    {
     "ename": "TypeError",
     "evalue": "'Audit' object is not subscriptable",
     "output_type": "error",
     "traceback": [
      "\u001b[1;31m---------------------------------------------------------------------------\u001b[0m",
      "\u001b[1;31mTypeError\u001b[0m                                 Traceback (most recent call last)",
      "Cell \u001b[1;32mIn[16], line 1\u001b[0m\n\u001b[1;32m----> 1\u001b[0m \u001b[43map\u001b[49m\u001b[38;5;241;43m.\u001b[39;49m\u001b[43mabsolute\u001b[49m\u001b[43m(\u001b[49m\u001b[43maudit\u001b[49m\u001b[43m,\u001b[49m\u001b[43m \u001b[49m\u001b[43mmetrics\u001b[49m\u001b[43m,\u001b[49m\u001b[43m \u001b[49m\u001b[38;5;124;43m'\u001b[39;49m\u001b[38;5;124;43mrace\u001b[39;49m\u001b[38;5;124;43m'\u001b[39;49m\u001b[43m,\u001b[49m\u001b[43m \u001b[49m\u001b[43mfairness_threshold\u001b[49m\u001b[43m \u001b[49m\u001b[38;5;241;43m=\u001b[39;49m\u001b[43m \u001b[49m\u001b[43mdisparity_tolerance\u001b[49m\u001b[43m)\u001b[49m\n",
      "File \u001b[1;32m~\\AppData\\Local\\Packages\\PythonSoftwareFoundation.Python.3.11_qbz5n2kfra8p0\\LocalCache\\local-packages\\Python311\\site-packages\\aequitas\\plot\\bubble_metric_chart.py:561\u001b[0m, in \u001b[0;36mplot_metric_bubble_chart\u001b[1;34m(disparity_df, metrics_list, attribute, fairness_threshold, chart_height, chart_width, accessibility_mode)\u001b[0m\n\u001b[0;32m    529\u001b[0m \u001b[38;5;250m\u001b[39m\u001b[38;5;124;03m\"\"\"Draws bubble chart to visualize the values of the selected metrics for a given\u001b[39;00m\n\u001b[0;32m    530\u001b[0m \u001b[38;5;124;03mattribute.\u001b[39;00m\n\u001b[0;32m    531\u001b[0m \n\u001b[1;32m   (...)\u001b[0m\n\u001b[0;32m    550\u001b[0m \u001b[38;5;124;03m:rtype: Altair chart object\u001b[39;00m\n\u001b[0;32m    551\u001b[0m \u001b[38;5;124;03m\"\"\"\u001b[39;00m\n\u001b[0;32m    552\u001b[0m metrics \u001b[38;5;241m=\u001b[39m [possible_metrics\u001b[38;5;241m.\u001b[39mget(metric\u001b[38;5;241m.\u001b[39mlower(), metric) \u001b[38;5;28;01mfor\u001b[39;00m metric \u001b[38;5;129;01min\u001b[39;00m metrics_list]\n\u001b[0;32m    553\u001b[0m (\n\u001b[0;32m    554\u001b[0m     plot_table,\n\u001b[0;32m    555\u001b[0m     metrics,\n\u001b[0;32m    556\u001b[0m     ref_group,\n\u001b[0;32m    557\u001b[0m     global_scales,\n\u001b[0;32m    558\u001b[0m     chart_height,\n\u001b[0;32m    559\u001b[0m     chart_width,\n\u001b[0;32m    560\u001b[0m     selection,\n\u001b[1;32m--> 561\u001b[0m ) \u001b[38;5;241m=\u001b[39m \u001b[43mInitializer\u001b[49m\u001b[38;5;241;43m.\u001b[39;49m\u001b[43mprepare_bubble_chart\u001b[49m\u001b[43m(\u001b[49m\n\u001b[0;32m    562\u001b[0m \u001b[43m    \u001b[49m\u001b[43mdisparity_df\u001b[49m\u001b[43m,\u001b[49m\n\u001b[0;32m    563\u001b[0m \u001b[43m    \u001b[49m\u001b[43mmetrics\u001b[49m\u001b[43m,\u001b[49m\n\u001b[0;32m    564\u001b[0m \u001b[43m    \u001b[49m\u001b[43mattribute\u001b[49m\u001b[43m,\u001b[49m\n\u001b[0;32m    565\u001b[0m \u001b[43m    \u001b[49m\u001b[43mfairness_threshold\u001b[49m\u001b[43m,\u001b[49m\n\u001b[0;32m    566\u001b[0m \u001b[43m    \u001b[49m\u001b[43mchart_height\u001b[49m\u001b[43m,\u001b[49m\n\u001b[0;32m    567\u001b[0m \u001b[43m    \u001b[49m\u001b[43mchart_width\u001b[49m\u001b[43m,\u001b[49m\n\u001b[0;32m    568\u001b[0m \u001b[43m    \u001b[49m\u001b[43mMetric_Chart\u001b[49m\u001b[43m,\u001b[49m\n\u001b[0;32m    569\u001b[0m \u001b[43m    \u001b[49m\u001b[43maccessibility_mode\u001b[49m\u001b[43m,\u001b[49m\n\u001b[0;32m    570\u001b[0m \u001b[43m\u001b[49m\u001b[43m)\u001b[49m\n\u001b[0;32m    571\u001b[0m \u001b[38;5;66;03m# GET MAIN CHART COMPONENTS\u001b[39;00m\n\u001b[0;32m    572\u001b[0m main_chart \u001b[38;5;241m=\u001b[39m get_metric_bubble_chart_components(\n\u001b[0;32m    573\u001b[0m     plot_table,\n\u001b[0;32m    574\u001b[0m     metrics,\n\u001b[1;32m   (...)\u001b[0m\n\u001b[0;32m    581\u001b[0m     accessibility_mode,\n\u001b[0;32m    582\u001b[0m )\n",
      "File \u001b[1;32m~\\AppData\\Local\\Packages\\PythonSoftwareFoundation.Python.3.11_qbz5n2kfra8p0\\LocalCache\\local-packages\\Python311\\site-packages\\aequitas\\plot\\commons\\initializers.py:92\u001b[0m, in \u001b[0;36mprepare_bubble_chart\u001b[1;34m(disparity_df, metrics_list, attribute, fairness_threshold, chart_height, chart_width, chart_default_sizes, accessibility_mode)\u001b[0m\n\u001b[0;32m     80\u001b[0m \u001b[38;5;28;01mdef\u001b[39;00m \u001b[38;5;21mprepare_bubble_chart\u001b[39m(\n\u001b[0;32m     81\u001b[0m     disparity_df,\n\u001b[0;32m     82\u001b[0m     metrics_list,\n\u001b[1;32m   (...)\u001b[0m\n\u001b[0;32m     88\u001b[0m     accessibility_mode,\n\u001b[0;32m     89\u001b[0m ):\n\u001b[0;32m     90\u001b[0m     metrics \u001b[38;5;241m=\u001b[39m __sanitize_metrics(metrics_list)\n\u001b[1;32m---> 92\u001b[0m     \u001b[43m__validate_data_inputs\u001b[49m\u001b[43m(\u001b[49m\u001b[43mdisparity_df\u001b[49m\u001b[43m,\u001b[49m\u001b[43m \u001b[49m\u001b[43mmetrics\u001b[49m\u001b[43m,\u001b[49m\u001b[43m \u001b[49m\u001b[43mattribute\u001b[49m\u001b[43m,\u001b[49m\u001b[43m \u001b[49m\u001b[43mfairness_threshold\u001b[49m\u001b[43m)\u001b[49m\n\u001b[0;32m     94\u001b[0m     \u001b[38;5;66;03m## Calculate default chart sizes\u001b[39;00m\n\u001b[0;32m     95\u001b[0m     num_metrics \u001b[38;5;241m=\u001b[39m \u001b[38;5;28mlen\u001b[39m(metrics)\n",
      "File \u001b[1;32m~\\AppData\\Local\\Packages\\PythonSoftwareFoundation.Python.3.11_qbz5n2kfra8p0\\LocalCache\\local-packages\\Python311\\site-packages\\aequitas\\plot\\commons\\initializers.py:36\u001b[0m, in \u001b[0;36m__validate_data_inputs\u001b[1;34m(disparity_df, metrics, attributes, fairness_threshold)\u001b[0m\n\u001b[0;32m     34\u001b[0m \u001b[38;5;28;01mdef\u001b[39;00m \u001b[38;5;21m__validate_data_inputs\u001b[39m(disparity_df, metrics, attributes, fairness_threshold):\n\u001b[0;32m     35\u001b[0m     Validator\u001b[38;5;241m.\u001b[39mmetrics(metrics)\n\u001b[1;32m---> 36\u001b[0m     \u001b[43mValidator\u001b[49m\u001b[38;5;241;43m.\u001b[39;49m\u001b[43mdataframe\u001b[49m\u001b[43m(\u001b[49m\u001b[43mdisparity_df\u001b[49m\u001b[43m,\u001b[49m\u001b[43m \u001b[49m\u001b[43mmetrics\u001b[49m\u001b[43m)\u001b[49m\n\u001b[0;32m     37\u001b[0m     Validator\u001b[38;5;241m.\u001b[39mattributes(disparity_df, attributes)\n\u001b[0;32m     38\u001b[0m     Validator\u001b[38;5;241m.\u001b[39mfairness_threshold(fairness_threshold)\n",
      "File \u001b[1;32m~\\AppData\\Local\\Packages\\PythonSoftwareFoundation.Python.3.11_qbz5n2kfra8p0\\LocalCache\\local-packages\\Python311\\site-packages\\aequitas\\plot\\commons\\validators.py:34\u001b[0m, in \u001b[0;36mdataframe\u001b[1;34m(df, metrics_list)\u001b[0m\n\u001b[0;32m     32\u001b[0m \u001b[38;5;28;01mfor\u001b[39;00m field \u001b[38;5;129;01min\u001b[39;00m DF_FIELDS:\n\u001b[0;32m     33\u001b[0m     \u001b[38;5;28;01mtry\u001b[39;00m:\n\u001b[1;32m---> 34\u001b[0m         \u001b[43mdf\u001b[49m\u001b[43m[\u001b[49m\u001b[43mfield\u001b[49m\u001b[43m]\u001b[49m\n\u001b[0;32m     35\u001b[0m     \u001b[38;5;28;01mexcept\u001b[39;00m \u001b[38;5;167;01mKeyError\u001b[39;00m:\n\u001b[0;32m     36\u001b[0m         \u001b[38;5;28mprint\u001b[39m(\u001b[38;5;124mf\u001b[39m\u001b[38;5;124m'\u001b[39m\u001b[38;5;124mThe dataframe does not contain the column \u001b[39m\u001b[38;5;124m\"\u001b[39m\u001b[38;5;132;01m{\u001b[39;00mfield\u001b[38;5;132;01m}\u001b[39;00m\u001b[38;5;124m\"\u001b[39m\u001b[38;5;124m'\u001b[39m)\n",
      "\u001b[1;31mTypeError\u001b[0m: 'Audit' object is not subscriptable"
     ]
    }
   ],
   "source": [
    "ap.absolute(audit, metrics, 'race', fairness_threshold = disparity_tolerance)"
   ]
  }
 ],
 "metadata": {
  "kernelspec": {
   "display_name": "Python 3",
   "language": "python",
   "name": "python3"
  },
  "language_info": {
   "codemirror_mode": {
    "name": "ipython",
    "version": 3
   },
   "file_extension": ".py",
   "mimetype": "text/x-python",
   "name": "python",
   "nbconvert_exporter": "python",
   "pygments_lexer": "ipython3",
   "version": "3.11.10"
  }
 },
 "nbformat": 4,
 "nbformat_minor": 2
}
