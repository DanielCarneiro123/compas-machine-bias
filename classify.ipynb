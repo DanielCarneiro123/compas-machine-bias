{
 "cells": [
  {
   "cell_type": "markdown",
   "metadata": {},
   "source": [
    "# Logistic Regression Classifier"
   ]
  },
  {
   "cell_type": "code",
   "execution_count": 2,
   "metadata": {},
   "outputs": [],
   "source": [
    "import pandas as pd\n",
    "from sklearn.linear_model import LogisticRegression\n",
    "from sklearn.preprocessing import StandardScaler\n",
    "from sklearn.metrics import classification_report\n",
    "\n",
    "df = pd.read_csv('dataset_preprocessed.csv')\n",
    "\n",
    "X_columns = [\n",
    "    'sex_Male', 'age_cat_Greater than 45', 'age_cat_Less than 25', 'age_cat_25 - 45',\n",
    "    'race_African-American', 'race_Asian', 'race_Hispanic', 'race_Native American', \n",
    "    'race_Other', 'priors_count', 'two_year_recid', 'length_of_stay'\n",
    "]\n",
    "\n",
    "X = df[X_columns].copy()\n",
    "y = df['score_factor']\n",
    "\n",
    "scaler = StandardScaler()\n",
    "X[['priors_count', 'length_of_stay']] = scaler.fit_transform(X[['priors_count', 'length_of_stay']])\n",
    "\n",
    "log_reg = LogisticRegression()\n",
    "log_reg.fit(X, y)\n",
    "\n",
    "y_pred = log_reg.predict(X)\n",
    "df['predicted_score'] = y_pred\n",
    "\n",
    "\n",
    "# save the model to disk\n",
    "df.to_csv('compas_with_predictions.csv', index=False)"
   ]
  }
 ],
 "metadata": {
  "kernelspec": {
   "display_name": "aequitas",
   "language": "python",
   "name": "python3"
  },
  "language_info": {
   "codemirror_mode": {
    "name": "ipython",
    "version": 3
   },
   "file_extension": ".py",
   "mimetype": "text/x-python",
   "name": "python",
   "nbconvert_exporter": "python",
   "pygments_lexer": "ipython3",
   "version": "3.11.10"
  }
 },
 "nbformat": 4,
 "nbformat_minor": 2
}
